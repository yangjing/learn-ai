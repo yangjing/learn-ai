{
 "cells": [
  {
   "cell_type": "markdown",
   "metadata": {},
   "source": [
    "# Introduction to PyTorch\n",
    "\n",
    "- [Learn the Basics](https://pytorch.org/tutorials/beginner/basics/intro.html)\n"
   ]
  },
  {
   "cell_type": "markdown",
   "metadata": {},
   "source": [
    "## Quickstart\n",
    "\n",
    "https://pytorch.org/tutorials/beginner/basics/quickstart_tutorial.html\n"
   ]
  },
  {
   "cell_type": "code",
   "execution_count": 1,
   "metadata": {},
   "outputs": [],
   "source": [
    "from pathlib import Path\n",
    "import torch\n",
    "from torch import nn\n",
    "from torch.utils.data import DataLoader, Dataset\n",
    "from torchvision import datasets, transforms\n",
    "from torchvision.transforms import ToTensor, Lambda\n",
    "from torchvision.io import read_image\n",
    "import torchvision.models as models\n",
    "import matplotlib.pyplot as plt\n",
    "import os\n",
    "import pandas as pd\n",
    "\n",
    "DATA_DIR = Path.home() / \"data\""
   ]
  },
  {
   "cell_type": "code",
   "execution_count": 2,
   "metadata": {},
   "outputs": [],
   "source": [
    "# Download training data from open datasets.\n",
    "training_data = datasets.FashionMNIST(\n",
    "  root=DATA_DIR,\n",
    "  train=True,\n",
    "  download=True,\n",
    "  transform=ToTensor(),\n",
    ")\n",
    "\n",
    "# Download test data from open datasets.\n",
    "test_data = datasets.FashionMNIST(\n",
    "  root=DATA_DIR,\n",
    "  train=False,\n",
    "  download=True,\n",
    "  transform=ToTensor(),\n",
    ")"
   ]
  },
  {
   "cell_type": "code",
   "execution_count": 3,
   "metadata": {},
   "outputs": [
    {
     "name": "stdout",
     "output_type": "stream",
     "text": [
      "Shape of X [N, C, H, W]: torch.Size([64, 1, 28, 28])\n",
      "Shape of y: torch.Size([64]) torch.int64\n"
     ]
    }
   ],
   "source": [
    "batch_size = 64\n",
    "\n",
    "# Create data loaders.\n",
    "train_dataloader = DataLoader(training_data, batch_size=batch_size)\n",
    "test_dataloader = DataLoader(test_data, batch_size=batch_size)\n",
    "\n",
    "for X, y in test_dataloader:\n",
    "  print(f\"Shape of X [N, C, H, W]: {X.shape}\")\n",
    "  print(f\"Shape of y: {y.shape} {y.dtype}\")\n",
    "  break"
   ]
  },
  {
   "cell_type": "code",
   "execution_count": 4,
   "metadata": {},
   "outputs": [
    {
     "name": "stdout",
     "output_type": "stream",
     "text": [
      "Using mps device\n",
      "NeuralNetwork(\n",
      "  (flatten): Flatten(start_dim=1, end_dim=-1)\n",
      "  (linear_relu_stack): Sequential(\n",
      "    (0): Linear(in_features=784, out_features=512, bias=True)\n",
      "    (1): ReLU()\n",
      "    (2): Linear(in_features=512, out_features=512, bias=True)\n",
      "    (3): ReLU()\n",
      "    (4): Linear(in_features=512, out_features=10, bias=True)\n",
      "  )\n",
      ")\n"
     ]
    }
   ],
   "source": [
    "# Get cpu, gpu or mps device for training.\n",
    "device = (\n",
    "  \"cuda\" if torch.cuda.is_available() else \"mps\" if torch.backends.mps.is_available() else \"cpu\"\n",
    ")\n",
    "print(f\"Using {device} device\")\n",
    "\n",
    "\n",
    "# Define model\n",
    "class NeuralNetwork(nn.Module):\n",
    "  def __init__(self):\n",
    "    super().__init__()\n",
    "    self.flatten = nn.Flatten()\n",
    "    self.linear_relu_stack = nn.Sequential(\n",
    "      nn.Linear(28 * 28, 512), nn.ReLU(), nn.Linear(512, 512), nn.ReLU(), nn.Linear(512, 10)\n",
    "    )\n",
    "\n",
    "  def forward(self, x):\n",
    "    x = self.flatten(x)\n",
    "    logits = self.linear_relu_stack(x)\n",
    "    return logits\n",
    "\n",
    "\n",
    "model = NeuralNetwork().to(device)\n",
    "print(model)"
   ]
  },
  {
   "cell_type": "code",
   "execution_count": 5,
   "metadata": {},
   "outputs": [],
   "source": [
    "loss_fn = nn.CrossEntropyLoss()\n",
    "optimizer = torch.optim.SGD(model.parameters(), lr=1e-3)"
   ]
  },
  {
   "cell_type": "code",
   "execution_count": 6,
   "metadata": {},
   "outputs": [],
   "source": [
    "def train(dataloader, model, loss_fn, optimizer):\n",
    "  size = len(dataloader.dataset)\n",
    "  model.train()\n",
    "  for batch, (X, y) in enumerate(dataloader):\n",
    "    X, y = X.to(device), y.to(device)\n",
    "\n",
    "    # Compute prediction error\n",
    "    pred = model(X)\n",
    "    loss = loss_fn(pred, y)\n",
    "\n",
    "    # Backpropagation\n",
    "    loss.backward()\n",
    "    optimizer.step()\n",
    "    optimizer.zero_grad()\n",
    "\n",
    "    if batch % 100 == 0:\n",
    "      loss, current = loss.item(), (batch + 1) * len(X)\n",
    "      print(f\"loss: {loss:>7f}  [{current:>5d}/{size:>5d}]\")"
   ]
  },
  {
   "cell_type": "code",
   "execution_count": 7,
   "metadata": {},
   "outputs": [],
   "source": [
    "def test(dataloader, model, loss_fn):\n",
    "  size = len(dataloader.dataset)\n",
    "  num_batches = len(dataloader)\n",
    "  model.eval()\n",
    "  test_loss, correct = 0, 0\n",
    "  with torch.no_grad():\n",
    "    for X, y in dataloader:\n",
    "      X, y = X.to(device), y.to(device)\n",
    "      pred = model(X)\n",
    "      test_loss += loss_fn(pred, y).item()\n",
    "      correct += (pred.argmax(1) == y).type(torch.float).sum().item()\n",
    "  test_loss /= num_batches\n",
    "  correct /= size\n",
    "  print(f\"Test Error: \\n Accuracy: {(100*correct):>0.1f}%, Avg loss: {test_loss:>8f} \\n\")"
   ]
  },
  {
   "cell_type": "code",
   "execution_count": 8,
   "metadata": {},
   "outputs": [
    {
     "name": "stdout",
     "output_type": "stream",
     "text": [
      "Epoch 1\n",
      "-------------------------------\n",
      "loss: 2.302699  [   64/60000]\n",
      "loss: 2.282561  [ 6464/60000]\n",
      "loss: 2.278250  [12864/60000]\n",
      "loss: 2.268418  [19264/60000]\n",
      "loss: 2.238297  [25664/60000]\n",
      "loss: 2.232692  [32064/60000]\n",
      "loss: 2.229742  [38464/60000]\n",
      "loss: 2.201360  [44864/60000]\n",
      "loss: 2.182444  [51264/60000]\n",
      "loss: 2.163365  [57664/60000]\n",
      "Test Error: \n",
      " Accuracy: 45.3%, Avg loss: 2.154968 \n",
      "\n",
      "Epoch 2\n",
      "-------------------------------\n",
      "loss: 2.161929  [   64/60000]\n",
      "loss: 2.141334  [ 6464/60000]\n",
      "loss: 2.100504  [12864/60000]\n",
      "loss: 2.109572  [19264/60000]\n",
      "loss: 2.055849  [25664/60000]\n",
      "loss: 2.015914  [32064/60000]\n",
      "loss: 2.033855  [38464/60000]\n",
      "loss: 1.963130  [44864/60000]\n",
      "loss: 1.951654  [51264/60000]\n",
      "loss: 1.892297  [57664/60000]\n",
      "Test Error: \n",
      " Accuracy: 58.8%, Avg loss: 1.888580 \n",
      "\n",
      "Epoch 3\n",
      "-------------------------------\n",
      "loss: 1.919180  [   64/60000]\n",
      "loss: 1.875467  [ 6464/60000]\n",
      "loss: 1.778640  [12864/60000]\n",
      "loss: 1.810668  [19264/60000]\n",
      "loss: 1.701991  [25664/60000]\n",
      "loss: 1.667272  [32064/60000]\n",
      "loss: 1.681216  [38464/60000]\n",
      "loss: 1.591548  [44864/60000]\n",
      "loss: 1.603899  [51264/60000]\n",
      "loss: 1.507396  [57664/60000]\n",
      "Test Error: \n",
      " Accuracy: 61.5%, Avg loss: 1.526605 \n",
      "\n",
      "Epoch 4\n",
      "-------------------------------\n",
      "loss: 1.589341  [   64/60000]\n",
      "loss: 1.544542  [ 6464/60000]\n",
      "loss: 1.416933  [12864/60000]\n",
      "loss: 1.478207  [19264/60000]\n",
      "loss: 1.354752  [25664/60000]\n",
      "loss: 1.360819  [32064/60000]\n",
      "loss: 1.368831  [38464/60000]\n",
      "loss: 1.304087  [44864/60000]\n",
      "loss: 1.330410  [51264/60000]\n",
      "loss: 1.233489  [57664/60000]\n",
      "Test Error: \n",
      " Accuracy: 63.4%, Avg loss: 1.262663 \n",
      "\n",
      "Epoch 5\n",
      "-------------------------------\n",
      "loss: 1.336177  [   64/60000]\n",
      "loss: 1.309252  [ 6464/60000]\n",
      "loss: 1.165410  [12864/60000]\n",
      "loss: 1.258971  [19264/60000]\n",
      "loss: 1.125376  [25664/60000]\n",
      "loss: 1.160519  [32064/60000]\n",
      "loss: 1.174336  [38464/60000]\n",
      "loss: 1.124293  [44864/60000]\n",
      "loss: 1.158473  [51264/60000]\n",
      "loss: 1.070683  [57664/60000]\n",
      "Test Error: \n",
      " Accuracy: 64.9%, Avg loss: 1.095830 \n",
      "\n",
      "Done!\n"
     ]
    }
   ],
   "source": [
    "epochs = 5\n",
    "for t in range(epochs):\n",
    "  print(f\"Epoch {t+1}\\n-------------------------------\")\n",
    "  train(train_dataloader, model, loss_fn, optimizer)\n",
    "  test(test_dataloader, model, loss_fn)\n",
    "print(\"Done!\")"
   ]
  },
  {
   "cell_type": "code",
   "execution_count": 9,
   "metadata": {},
   "outputs": [
    {
     "name": "stdout",
     "output_type": "stream",
     "text": [
      "Saved PyTorch Model State to model.pth\n"
     ]
    }
   ],
   "source": [
    "torch.save(model.state_dict(), \"model.pth\")\n",
    "print(\"Saved PyTorch Model State to model.pth\")\n"
   ]
  },
  {
   "cell_type": "code",
   "execution_count": 10,
   "metadata": {},
   "outputs": [
    {
     "data": {
      "text/plain": [
       "<All keys matched successfully>"
      ]
     },
     "execution_count": 10,
     "metadata": {},
     "output_type": "execute_result"
    }
   ],
   "source": [
    "model = NeuralNetwork().to(device)\n",
    "model.load_state_dict(torch.load(\"model.pth\", weights_only=True))"
   ]
  },
  {
   "cell_type": "code",
   "execution_count": 11,
   "metadata": {},
   "outputs": [
    {
     "name": "stdout",
     "output_type": "stream",
     "text": [
      "Predicted: \"Ankle boot\", Actual: \"Ankle boot\"\n"
     ]
    }
   ],
   "source": [
    "classes = [\n",
    "  \"T-shirt/top\",\n",
    "  \"Trouser\",\n",
    "  \"Pullover\",\n",
    "  \"Dress\",\n",
    "  \"Coat\",\n",
    "  \"Sandal\",\n",
    "  \"Shirt\",\n",
    "  \"Sneaker\",\n",
    "  \"Bag\",\n",
    "  \"Ankle boot\",\n",
    "]\n",
    "\n",
    "model.eval()\n",
    "x, y = test_data[0][0], test_data[0][1]\n",
    "with torch.no_grad():\n",
    "  x = x.to(device)\n",
    "  pred = model(x)\n",
    "  predicted, actual = classes[pred[0].argmax(0)], classes[y]\n",
    "  print(f'Predicted: \"{predicted}\", Actual: \"{actual}\"')"
   ]
  },
  {
   "cell_type": "markdown",
   "metadata": {},
   "source": [
    "## Datasets & DataLoaders\n",
    "\n",
    "https://pytorch.org/tutorials/beginner/basics/data_tutorial.html\n"
   ]
  },
  {
   "cell_type": "code",
   "execution_count": 12,
   "metadata": {},
   "outputs": [
    {
     "data": {
      "image/png": "[encoded data removed]",
      "text/plain": [
       "<Figure size 800x800 with 9 Axes>"
      ]
     },
     "metadata": {},
     "output_type": "display_data"
    }
   ],
   "source": [
    "labels_map = {\n",
    "  0: \"T-Shirt\",\n",
    "  1: \"Trouser\",\n",
    "  2: \"Pullover\",\n",
    "  3: \"Dress\",\n",
    "  4: \"Coat\",\n",
    "  5: \"Sandal\",\n",
    "  6: \"Shirt\",\n",
    "  7: \"Sneaker\",\n",
    "  8: \"Bag\",\n",
    "  9: \"Ankle Boot\",\n",
    "}\n",
    "figure = plt.figure(figsize=(8, 8))\n",
    "cols, rows = 3, 3\n",
    "for i in range(1, cols * rows + 1):\n",
    "  sample_idx = torch.randint(len(training_data), size=(1,)).item()\n",
    "  img, label = training_data[sample_idx]\n",
    "  figure.add_subplot(rows, cols, i)\n",
    "  plt.title(labels_map[label])\n",
    "  plt.axis(\"off\")\n",
    "  plt.imshow(img.squeeze(), cmap=\"gray\")\n",
    "plt.show()"
   ]
  },
  {
   "cell_type": "markdown",
   "metadata": {},
   "source": [
    "### Creating a Custom Dataset for your files\n"
   ]
  },
  {
   "cell_type": "code",
   "execution_count": 13,
   "metadata": {},
   "outputs": [],
   "source": [
    "class CustomImageDataset(Dataset):\n",
    "  \"\"\"\n",
    "  自定义图像数据集类，继承自torch.utils.data.Dataset。\n",
    "  用于加载带有注释文件的图像数据集，支持对图像和标签的转换操作。\n",
    "\n",
    "  参数:\n",
    "  - annotations_file: str, 注释文件的路径，注释文件中包含了图像文件名和对应的标签信息。\n",
    "  - img_dir: str, 存放图像文件的目录路径。\n",
    "  - transform: Callable, 可选，对图像进行转换的操作，例如裁剪、翻转等。\n",
    "  - target_transform: Callable, 可选，对标签进行转换的操作。\n",
    "  \"\"\"\n",
    "\n",
    "  def __init__(self, annotations_file, img_dir, transform=None, target_transform=None):\n",
    "    # 读取注释文件，注释文件是包含图像名称和标签的CSV文件\n",
    "    self.img_labels = pd.read_csv(annotations_file)\n",
    "    # 存储图像文件的目录路径\n",
    "    self.img_dir = img_dir\n",
    "    # 对图像进行转换的操作\n",
    "    self.transform = transform\n",
    "    # 对标签进行转换的操作\n",
    "    self.target_transform = target_transform\n",
    "\n",
    "  def __len__(self):\n",
    "    \"\"\"返回数据集中图像的数量。\"\"\"\n",
    "    return len(self.img_labels)\n",
    "\n",
    "  def __getitem__(self, idx):\n",
    "    \"\"\"\n",
    "    根据索引idx获取并返回一个图像样本及其对应的标签。\n",
    "\n",
    "    参数:\n",
    "    - idx: int, 图像样本的索引。\n",
    "\n",
    "    返回:\n",
    "    - Tuple, 包含图像样本和其对应的标签。\n",
    "    \"\"\"\n",
    "    # 构造图像的完整路径\n",
    "    img_path = os.path.join(self.img_dir, self.img_labels.iloc[idx, 0])\n",
    "    image = read_image(img_path)\n",
    "    # 获取对应的标签\n",
    "    label = self.img_labels.iloc[idx, 1]\n",
    "    # 如果提供了图像转换操作，则对图像进行转换\n",
    "    if self.transform:\n",
    "      image = self.transform(image)\n",
    "    # 如果提供了标签转换操作，则对标签进行转换\n",
    "    if self.target_transform:\n",
    "      label = self.target_transform(label)\n",
    "    # 返回图像样本和标签，读取的 CSV 文件类似如下：\n",
    "    # tshirt1.jpg, 0\n",
    "    # tshirt2.jpg, 0\n",
    "    # ......\n",
    "    # ankleboot999.jpg, 9\n",
    "    return image, label"
   ]
  },
  {
   "cell_type": "code",
   "execution_count": 14,
   "metadata": {},
   "outputs": [],
   "source": [
    "# 准备训练数据\n",
    "\n",
    "train_dataloader = DataLoader(training_data, batch_size=64, shuffle=True)\n",
    "test_dataloader = DataLoader(test_data, batch_size=64, shuffle=True)"
   ]
  },
  {
   "cell_type": "code",
   "execution_count": 15,
   "metadata": {},
   "outputs": [
    {
     "name": "stdout",
     "output_type": "stream",
     "text": [
      "Feature batch shape: torch.Size([64, 1, 28, 28])\n",
      "Labels batch shape: torch.Size([64])\n"
     ]
    },
    {
     "data": {
      "image/png": "[encoded data removed]",
      "text/plain": [
       "<Figure size 640x480 with 1 Axes>"
      ]
     },
     "metadata": {},
     "output_type": "display_data"
    },
    {
     "name": "stdout",
     "output_type": "stream",
     "text": [
      "Label: 8\n"
     ]
    }
   ],
   "source": [
    "# Display image and label.\n",
    "train_features, train_labels = next(iter(train_dataloader))\n",
    "print(f\"Feature batch shape: {train_features.size()}\")\n",
    "print(f\"Labels batch shape: {train_labels.size()}\")\n",
    "# 提取第一个图像并去除多余的维度\n",
    "img = train_features[0].squeeze()\n",
    "label = train_labels[0]\n",
    "plt.imshow(img, cmap=\"gray\")\n",
    "plt.show()\n",
    "print(f\"Label: {label}\")"
   ]
  },
  {
   "cell_type": "markdown",
   "metadata": {},
   "source": [
    "## Transforms\n",
    "\n",
    "https://pytorch.org/tutorials/beginner/basics/transforms_tutorial.html\n"
   ]
  },
  {
   "cell_type": "code",
   "execution_count": 16,
   "metadata": {},
   "outputs": [
    {
     "data": {
      "text/plain": [
       "Dataset FashionMNIST\n",
       "    Number of datapoints: 60000\n",
       "    Root location: /Users/yangjing/data\n",
       "    Split: Train\n",
       "    StandardTransform\n",
       "Transform: ToTensor()\n",
       "Target transform: Lambda()"
      ]
     },
     "execution_count": 16,
     "metadata": {},
     "output_type": "execute_result"
    }
   ],
   "source": [
    "ds = datasets.FashionMNIST(\n",
    "  root=DATA_DIR,\n",
    "  train=True,\n",
    "  download=True,\n",
    "  # ToTensor 将 PIL 图像或 NumPy ndarray 转换为 FloatTensor 。并将图像的像素强度值缩放到 [0., 1.] 的范围内。\n",
    "  transform=ToTensor(),\n",
    "  # Lambda 转换应用任何用户定义的 lambda 函数。在这里，我们定义一个函数将整数转换为独热编码张量。\n",
    "  # 它首先创建一个大小为 10 的零张量（我们数据集中标签的数量），并调用 scatter_，\n",
    "  # 该函数在由标签 y 给定的索引上分配一个 value=1 。\n",
    "  target_transform=Lambda(\n",
    "    lambda y: torch.zeros(10, dtype=torch.float).scatter_(0, torch.tensor(y), value=1)\n",
    "  ),\n",
    ")\n",
    "ds"
   ]
  },
  {
   "cell_type": "markdown",
   "metadata": {},
   "source": [
    "## Build the Neural Network\n",
    "\n",
    "https://pytorch.org/tutorials/beginner/basics/buildmodel_tutorial.html\n"
   ]
  },
  {
   "cell_type": "code",
   "execution_count": 17,
   "metadata": {},
   "outputs": [],
   "source": [
    "# 定义神经网络类\n",
    "class NeuralNetwork(nn.Module):\n",
    "  def __init__(self):\n",
    "    super().__init__()\n",
    "    self.flatten = nn.Flatten()\n",
    "    self.linear_relu_stack = nn.Sequential(\n",
    "      nn.Linear(28 * 28, 512),\n",
    "      nn.ReLU(),\n",
    "      nn.Linear(512, 512),\n",
    "      nn.ReLU(),\n",
    "      nn.Linear(512, 10),\n",
    "    )\n",
    "\n",
    "  def forward(self, x):\n",
    "    x = self.flatten(x)\n",
    "    logits = self.linear_relu_stack(x)\n",
    "    return logits"
   ]
  },
  {
   "cell_type": "code",
   "execution_count": 18,
   "metadata": {},
   "outputs": [
    {
     "name": "stdout",
     "output_type": "stream",
     "text": [
      "NeuralNetwork(\n",
      "  (flatten): Flatten(start_dim=1, end_dim=-1)\n",
      "  (linear_relu_stack): Sequential(\n",
      "    (0): Linear(in_features=784, out_features=512, bias=True)\n",
      "    (1): ReLU()\n",
      "    (2): Linear(in_features=512, out_features=512, bias=True)\n",
      "    (3): ReLU()\n",
      "    (4): Linear(in_features=512, out_features=10, bias=True)\n",
      "  )\n",
      ")\n"
     ]
    }
   ],
   "source": [
    "model = NeuralNetwork().to(device)\n",
    "print(model)"
   ]
  },
  {
   "cell_type": "code",
   "execution_count": 19,
   "metadata": {},
   "outputs": [
    {
     "name": "stdout",
     "output_type": "stream",
     "text": [
      "Predicted class: tensor([7], device='mps:0')\n"
     ]
    }
   ],
   "source": [
    "X = torch.rand(1, 28, 28, device=device)\n",
    "# 要使用模型，我们将输入数据传递给它。这会执行模型的 forward ，以及一些后台操作。不要直接调用 model.forward() ！\n",
    "logits = model(X)\n",
    "# 在输入上调用模型返回一个二维张量，dim=0 对应于每个类别的 10 个原始预测值的输出，dim=1 对应于每个输出的单个值。\n",
    "# 我们通过将其传递给 nn.Softmax 模块的一个实例来获得预测概率。\n",
    "pred_probab = nn.Softmax(dim=1)(logits)\n",
    "y_pred = pred_probab.argmax(1)\n",
    "print(f\"Predicted class: {y_pred}\")"
   ]
  },
  {
   "cell_type": "markdown",
   "metadata": {},
   "source": [
    "### Model Layers\n"
   ]
  },
  {
   "cell_type": "code",
   "execution_count": 20,
   "metadata": {},
   "outputs": [
    {
     "name": "stdout",
     "output_type": "stream",
     "text": [
      "torch.Size([3, 28, 28])\n"
     ]
    }
   ],
   "source": [
    "input_image = torch.rand(3, 28, 28)\n",
    "print(input_image.size())"
   ]
  },
  {
   "cell_type": "code",
   "execution_count": 21,
   "metadata": {},
   "outputs": [
    {
     "name": "stdout",
     "output_type": "stream",
     "text": [
      "torch.Size([3, 784])\n"
     ]
    }
   ],
   "source": [
    "# 我们初始化 nn.Flatten 层，将每个 2D 28x28 图像转换为一个连续的 784 像素值数组（保持小批量维度（在 dim=0））。\n",
    "flatten = nn.Flatten()\n",
    "flat_image = flatten(input_image)\n",
    "print(flat_image.size())"
   ]
  },
  {
   "cell_type": "code",
   "execution_count": 22,
   "metadata": {},
   "outputs": [
    {
     "name": "stdout",
     "output_type": "stream",
     "text": [
      "torch.Size([3, 20])\n"
     ]
    }
   ],
   "source": [
    "# 线性层是一个模块，它使用存储的权重和偏置对输入应用线性变换。\n",
    "layer1 = nn.Linear(in_features=28 * 28, out_features=20)\n",
    "hidden1 = layer1(flat_image)\n",
    "print(hidden1.size())"
   ]
  },
  {
   "cell_type": "code",
   "execution_count": 23,
   "metadata": {},
   "outputs": [
    {
     "name": "stdout",
     "output_type": "stream",
     "text": [
      "Before ReLU: tensor([[ 1.1925e-01,  4.7486e-01,  1.2103e-03,  3.1872e-02,  2.1483e-02,\n",
      "         -4.7218e-02, -4.6316e-01, -3.5146e-01, -5.4564e-01,  3.0408e-01,\n",
      "         -1.5337e-01,  1.4589e-01, -3.2466e-01,  9.2100e-01,  1.4451e-01,\n",
      "         -1.7631e-01, -1.0649e-01, -3.8257e-01,  3.4162e-01, -1.8739e-01],\n",
      "        [ 8.6719e-04,  8.3002e-02, -9.9642e-02,  1.8860e-01,  3.3531e-01,\n",
      "         -6.3137e-03, -3.7019e-01, -1.0455e-02, -8.6134e-03,  4.1513e-01,\n",
      "          8.2136e-02, -7.0921e-02, -3.1451e-01,  8.4875e-01,  7.9693e-02,\n",
      "         -1.6903e-01, -4.1167e-01, -8.2619e-02,  2.8751e-01, -9.2631e-02],\n",
      "        [ 4.0538e-01,  4.4696e-02, -1.1650e-01, -7.3744e-02,  2.2753e-01,\n",
      "         -4.1422e-02, -8.9453e-02,  1.4115e-02, -1.5648e-01,  3.7108e-01,\n",
      "         -1.1247e-02, -1.4739e-01, -2.1514e-01,  9.3629e-01,  1.4309e-01,\n",
      "         -1.1902e-01, -1.9782e-01, -4.3189e-01,  1.5192e-01, -1.9981e-02]],\n",
      "       grad_fn=<AddmmBackward0>)\n",
      "\n",
      "\n",
      "After ReLU: tensor([[1.1925e-01, 4.7486e-01, 1.2103e-03, 3.1872e-02, 2.1483e-02, 0.0000e+00,\n",
      "         0.0000e+00, 0.0000e+00, 0.0000e+00, 3.0408e-01, 0.0000e+00, 1.4589e-01,\n",
      "         0.0000e+00, 9.2100e-01, 1.4451e-01, 0.0000e+00, 0.0000e+00, 0.0000e+00,\n",
      "         3.4162e-01, 0.0000e+00],\n",
      "        [8.6719e-04, 8.3002e-02, 0.0000e+00, 1.8860e-01, 3.3531e-01, 0.0000e+00,\n",
      "         0.0000e+00, 0.0000e+00, 0.0000e+00, 4.1513e-01, 8.2136e-02, 0.0000e+00,\n",
      "         0.0000e+00, 8.4875e-01, 7.9693e-02, 0.0000e+00, 0.0000e+00, 0.0000e+00,\n",
      "         2.8751e-01, 0.0000e+00],\n",
      "        [4.0538e-01, 4.4696e-02, 0.0000e+00, 0.0000e+00, 2.2753e-01, 0.0000e+00,\n",
      "         0.0000e+00, 1.4115e-02, 0.0000e+00, 3.7108e-01, 0.0000e+00, 0.0000e+00,\n",
      "         0.0000e+00, 9.3629e-01, 1.4309e-01, 0.0000e+00, 0.0000e+00, 0.0000e+00,\n",
      "         1.5192e-01, 0.0000e+00]], grad_fn=<ReluBackward0>)\n"
     ]
    }
   ],
   "source": [
    "# 非线性激活是创建模型输入和输出之间复杂映射的原因。它们在线性变换之后应用，以引入非线性，帮助神经网络学习各种现象。\n",
    "print(f\"Before ReLU: {hidden1}\\n\\n\")\n",
    "hidden1 = nn.ReLU()(hidden1)\n",
    "print(f\"After ReLU: {hidden1}\")\n"
   ]
  },
  {
   "cell_type": "code",
   "execution_count": 24,
   "metadata": {},
   "outputs": [],
   "source": [
    "# nn.Sequential 是一个有序的模块容器。数据按照定义的顺序通过所有模块。\n",
    "# 您可以使用顺序容器快速组建一个网络，如 seq_modules 。\n",
    "seq_modules = nn.Sequential(flatten, layer1, nn.ReLU(), nn.Linear(20, 10))\n",
    "input_image = torch.rand(3, 28, 28)\n",
    "logits = seq_modules(input_image)\n"
   ]
  },
  {
   "cell_type": "code",
   "execution_count": 25,
   "metadata": {},
   "outputs": [],
   "source": [
    "# 神经网络的最后一层线性层返回 logits - 在[-infty, infty]中的原始值 - 这些值被传递到 nn.Softmax 模块。\n",
    "# logits 被缩放到[0, 1]的值，表示模型对每个类别的预测概率。 dim 参数指示值必须沿着哪个维度求和为 1。\n",
    "softmax = nn.Softmax(dim=1)\n",
    "pred_probab = softmax(logits)\n"
   ]
  },
  {
   "cell_type": "markdown",
   "metadata": {},
   "source": [
    "### Model Parameters\n"
   ]
  },
  {
   "cell_type": "code",
   "execution_count": 26,
   "metadata": {},
   "outputs": [
    {
     "name": "stdout",
     "output_type": "stream",
     "text": [
      "Model structure: NeuralNetwork(\n",
      "  (flatten): Flatten(start_dim=1, end_dim=-1)\n",
      "  (linear_relu_stack): Sequential(\n",
      "    (0): Linear(in_features=784, out_features=512, bias=True)\n",
      "    (1): ReLU()\n",
      "    (2): Linear(in_features=512, out_features=512, bias=True)\n",
      "    (3): ReLU()\n",
      "    (4): Linear(in_features=512, out_features=10, bias=True)\n",
      "  )\n",
      ")\n",
      "\n",
      "\n",
      "Layer: linear_relu_stack.0.weight | Size: torch.Size([512, 784]) | Values : tensor([[-0.0310, -0.0017,  0.0224,  ...,  0.0210, -0.0258,  0.0189],\n",
      "        [-0.0140, -0.0282, -0.0124,  ...,  0.0272, -0.0001, -0.0180]],\n",
      "       device='mps:0', grad_fn=<SliceBackward0>) \n",
      "\n",
      "Layer: linear_relu_stack.0.bias | Size: torch.Size([512]) | Values : tensor([-0.0263, -0.0157], device='mps:0', grad_fn=<SliceBackward0>) \n",
      "\n",
      "Layer: linear_relu_stack.2.weight | Size: torch.Size([512, 512]) | Values : tensor([[ 0.0364,  0.0128, -0.0437,  ..., -0.0402,  0.0137, -0.0024],\n",
      "        [-0.0248, -0.0410, -0.0374,  ...,  0.0093,  0.0293, -0.0150]],\n",
      "       device='mps:0', grad_fn=<SliceBackward0>) \n",
      "\n",
      "Layer: linear_relu_stack.2.bias | Size: torch.Size([512]) | Values : tensor([0.0132, 0.0368], device='mps:0', grad_fn=<SliceBackward0>) \n",
      "\n",
      "Layer: linear_relu_stack.4.weight | Size: torch.Size([10, 512]) | Values : tensor([[-0.0210, -0.0015,  0.0120,  ..., -0.0237,  0.0069, -0.0390],\n",
      "        [ 0.0282,  0.0360,  0.0107,  ...,  0.0069, -0.0198, -0.0363]],\n",
      "       device='mps:0', grad_fn=<SliceBackward0>) \n",
      "\n",
      "Layer: linear_relu_stack.4.bias | Size: torch.Size([10]) | Values : tensor([0.0019, 0.0118], device='mps:0', grad_fn=<SliceBackward0>) \n",
      "\n"
     ]
    }
   ],
   "source": [
    "print(f\"Model structure: {model}\\n\\n\")\n",
    "\n",
    "for name, param in model.named_parameters():\n",
    "  print(f\"Layer: {name} | Size: {param.size()} | Values : {param[:2]} \\n\")"
   ]
  },
  {
   "cell_type": "markdown",
   "metadata": {},
   "source": [
    "## Automatic Differentiation with `torch.autograd`\n"
   ]
  },
  {
   "cell_type": "code",
   "execution_count": 27,
   "metadata": {},
   "outputs": [],
   "source": [
    "import torch\n",
    "\n",
    "x = torch.ones(5)  # input tensor\n",
    "y = torch.zeros(3)  # expected output\n",
    "w = torch.randn(5, 3, requires_grad=True)\n",
    "b = torch.randn(3, requires_grad=True)\n",
    "z = torch.matmul(x, w) + b\n",
    "loss = torch.nn.functional.binary_cross_entropy_with_logits(z, y)"
   ]
  },
  {
   "cell_type": "markdown",
   "metadata": {},
   "source": [
    "此代码定义了以下计算图：\n",
    "![image.png](https://pytorch.org/tutorials/_images/comp-graph.png)\n"
   ]
  },
  {
   "cell_type": "code",
   "execution_count": 28,
   "metadata": {},
   "outputs": [
    {
     "name": "stdout",
     "output_type": "stream",
     "text": [
      "Gradient function for z = <AddBackward0 object at 0x328103f70>\n",
      "Gradient function for loss = <BinaryCrossEntropyWithLogitsBackward0 object at 0x328103f70>\n"
     ]
    }
   ],
   "source": [
    "print(f\"Gradient function for z = {z.grad_fn}\")\n",
    "print(f\"Gradient function for loss = {loss.grad_fn}\")"
   ]
  },
  {
   "cell_type": "code",
   "execution_count": 29,
   "metadata": {},
   "outputs": [
    {
     "name": "stdout",
     "output_type": "stream",
     "text": [
      "tensor([[0.1926, 0.1461, 0.3292],\n",
      "        [0.1926, 0.1461, 0.3292],\n",
      "        [0.1926, 0.1461, 0.3292],\n",
      "        [0.1926, 0.1461, 0.3292],\n",
      "        [0.1926, 0.1461, 0.3292]])\n",
      "tensor([0.1926, 0.1461, 0.3292])\n"
     ]
    }
   ],
   "source": [
    "# 计算梯度\n",
    "loss.backward()\n",
    "print(w.grad)\n",
    "print(b.grad)"
   ]
  },
  {
   "cell_type": "code",
   "execution_count": 30,
   "metadata": {},
   "outputs": [
    {
     "name": "stdout",
     "output_type": "stream",
     "text": [
      "True\n",
      "False\n"
     ]
    }
   ],
   "source": [
    "# 禁用梯度追踪\n",
    "z = torch.matmul(x, w) + b\n",
    "print(z.requires_grad)\n",
    "\n",
    "# 默认情况下，所有具有 requires_grad=True 的张量都在跟踪其计算历史并支持梯度计算。\n",
    "# 然而，在某些情况下，我们不需要这样做，例如，当我们已经训练好模型并只想将其应用于一些输入数据时，\n",
    "# 即我们只想通过网络进行前向计算。我们可以通过将计算代码包围在 torch.no_grad() 块中来停止跟踪计算：\n",
    "with torch.no_grad():\n",
    "  z = torch.matmul(x, w) + b\n",
    "print(z.requires_grad)"
   ]
  },
  {
   "cell_type": "code",
   "execution_count": 31,
   "metadata": {},
   "outputs": [
    {
     "name": "stdout",
     "output_type": "stream",
     "text": [
      "False\n"
     ]
    }
   ],
   "source": [
    "# 另一种实现相同结果的方法是对张量使用 detach() 方法：\n",
    "z = torch.matmul(x, w) + b\n",
    "z_det = z.detach()\n",
    "print(z_det.requires_grad)"
   ]
  },
  {
   "cell_type": "code",
   "execution_count": 32,
   "metadata": {},
   "outputs": [
    {
     "name": "stdout",
     "output_type": "stream",
     "text": [
      "First call\n",
      "tensor([[4., 2., 2., 2., 2.],\n",
      "        [2., 4., 2., 2., 2.],\n",
      "        [2., 2., 4., 2., 2.],\n",
      "        [2., 2., 2., 4., 2.]])\n",
      "\n",
      "Second call\n",
      "tensor([[8., 4., 4., 4., 4.],\n",
      "        [4., 8., 4., 4., 4.],\n",
      "        [4., 4., 8., 4., 4.],\n",
      "        [4., 4., 4., 8., 4.]])\n",
      "\n",
      "Call after zeroing gradients\n",
      "tensor([[4., 2., 2., 2., 2.],\n",
      "        [2., 4., 2., 2., 2.],\n",
      "        [2., 2., 4., 2., 2.],\n",
      "        [2., 2., 2., 4., 2.]])\n"
     ]
    }
   ],
   "source": [
    "# 张量梯度和雅可比乘积\n",
    "inp = torch.eye(4, 5, requires_grad=True)\n",
    "out = (inp + 1).pow(2).t()\n",
    "out.backward(torch.ones_like(out), retain_graph=True)\n",
    "print(f\"First call\\n{inp.grad}\")\n",
    "out.backward(torch.ones_like(out), retain_graph=True)\n",
    "print(f\"\\nSecond call\\n{inp.grad}\")\n",
    "inp.grad.zero_()\n",
    "out.backward(torch.ones_like(out), retain_graph=True)\n",
    "print(f\"\\nCall after zeroing gradients\\n{inp.grad}\")"
   ]
  },
  {
   "cell_type": "markdown",
   "metadata": {},
   "source": [
    "## Optimizing Model Parameters\n",
    "\n",
    "https://pytorch.org/tutorials/beginner/basics/optimization_tutorial.html\n"
   ]
  },
  {
   "cell_type": "code",
   "execution_count": 33,
   "metadata": {},
   "outputs": [
    {
     "data": {
      "text/plain": [
       "NeuralNetwork(\n",
       "  (flatten): Flatten(start_dim=1, end_dim=-1)\n",
       "  (linear_relu_stack): Sequential(\n",
       "    (0): Linear(in_features=784, out_features=512, bias=True)\n",
       "    (1): ReLU()\n",
       "    (2): Linear(in_features=512, out_features=512, bias=True)\n",
       "    (3): ReLU()\n",
       "    (4): Linear(in_features=512, out_features=10, bias=True)\n",
       "  )\n",
       ")"
      ]
     },
     "execution_count": 33,
     "metadata": {},
     "output_type": "execute_result"
    }
   ],
   "source": [
    "training_data = datasets.FashionMNIST(\n",
    "  root=DATA_DIR, train=True, download=True, transform=ToTensor()\n",
    ")\n",
    "test_data = datasets.FashionMNIST(root=DATA_DIR, train=False, download=True, transform=ToTensor())\n",
    "\n",
    "train_dataloader = DataLoader(training_data, batch_size=64)\n",
    "test_dataloader = DataLoader(test_data, batch_size=64)\n",
    "\n",
    "\n",
    "class NeuralNetwork(nn.Module):\n",
    "  def __init__(self):\n",
    "    super().__init__()\n",
    "    self.flatten = nn.Flatten()\n",
    "    self.linear_relu_stack = nn.Sequential(\n",
    "      nn.Linear(28 * 28, 512),\n",
    "      nn.ReLU(),\n",
    "      nn.Linear(512, 512),\n",
    "      nn.ReLU(),\n",
    "      nn.Linear(512, 10),\n",
    "    )\n",
    "\n",
    "  def forward(self, x):\n",
    "    x = self.flatten(x)\n",
    "    logits = self.linear_relu_stack(x)\n",
    "    return logits\n",
    "\n",
    "\n",
    "model = NeuralNetwork()\n",
    "model"
   ]
  },
  {
   "cell_type": "markdown",
   "metadata": {},
   "source": [
    "### Hyperparameters\n"
   ]
  },
  {
   "cell_type": "code",
   "execution_count": 34,
   "metadata": {},
   "outputs": [],
   "source": [
    "# 每个批次/周期更新模型参数的幅度。较小的值会导致学习速度缓慢，而较大的值可能会在训练过程中导致不可预测的行为\n",
    "learning_rate = 1e-3\n",
    "# 在更新参数之前，通过网络传播的数据样本数量\n",
    "batch_size = 64\n",
    "# 对数据集迭代的次数\n",
    "epochs = 5\n"
   ]
  },
  {
   "cell_type": "markdown",
   "metadata": {},
   "source": [
    "### Optimization Loop\n",
    "\n",
    "一旦我们设置了超参数，就可以通过优化循环训练和优化我们的模型。优化循环的每次迭代称为一个周期。\n",
    "\n",
    "每个时代由两个主要部分组成：\n",
    "\n",
    "- 训练循环 - 遍历训练数据集并尝试收敛到最佳参数。\n",
    "- 验证/测试循环 - 遍历测试数据集以检查模型性能是否在改善。\n",
    "\n",
    "#### Loss Function\n",
    "\n",
    "当提供一些训练数据时，我们未训练的网络可能无法给出正确的答案。损失函数衡量获得结果与目标值之间的不相似程度，而我们希望在训练过程中最小化的正是损失函数。为了计算损失，我们使用给定数据样本的输入进行预测，并将其与真实数据标签值进行比较。\n",
    "\n",
    "常见的损失函数包括 `nn.MSELoss`（均方误差）用于回归任务，以及 `nn.NLLLoss`（负对数似然）用于分类。`nn.CrossEntropyLoss` 结合了 `nn.LogSoftmax` 和 `nn.NLLLoss` 。\n",
    "\n",
    "#### Optimizer\n",
    "\n",
    "优化是调整模型参数以减少每个训练步骤中模型误差的过程。优化算法定义了如何执行这个过程（在这个例子中我们使用随机梯度下降）。所有优化逻辑都封装在 `optimizer` 对象中。在这里，我们使用 SGD 优化器；此外，PyTorch 中还有许多不同的优化器，如 ADAM 和 RMSProp，它们在不同类型的模型和数据上表现更好。\n",
    "\n",
    "我们通过注册需要训练的模型参数并传入学习率超参数来初始化优化器。\n",
    "\n",
    "在训练循环中，优化分为三个步骤：\n",
    "\n",
    "- 调用 `optimizer.zero_grad()` 以重置模型参数的梯度。梯度默认会累加；为了防止重复计算，我们在每次迭代时显式地将其置为零。\n",
    "- 通过调用 `loss.backward()` 反向传播预测损失。PyTorch 存储每个参数的损失梯度。\n",
    "- 一旦我们得到了梯度，我们调用 `optimizer.step()` 通过在反向传播中收集的梯度来调整参数。\n"
   ]
  },
  {
   "cell_type": "markdown",
   "metadata": {},
   "source": [
    "### Full Implementation\n",
    "\n",
    "我们定义 `train_loop` 来循环我们的优化代码，以及 `test_loop` 来评估模型在我们的测试数据上的表现。\n"
   ]
  },
  {
   "cell_type": "code",
   "execution_count": 35,
   "metadata": {},
   "outputs": [],
   "source": [
    "# dataloader: 训练数据加载器\n",
    "# model: 待训练的模型\n",
    "# criterion: 损失函数\n",
    "# optimizer: 优化器\n",
    "def train_loop(dataloader, model, loss_fn, optimizer):\n",
    "  # 获取数据集大小\n",
    "  size = len(dataloader.dataset)\n",
    "  # 将模型设置为训练模式\n",
    "  model.train()\n",
    "\n",
    "  # 遍历数据加载器中的每个批次\n",
    "  for batch, (X, y) in enumerate(dataloader):\n",
    "    pred = model(X)  # 做出预测\n",
    "    loss = loss_fn(pred, y)  # 计算损失\n",
    "    loss.backward()  # 反向传播损失\n",
    "    optimizer.step()  # 优化器执行一步优化\n",
    "    optimizer.zero_grad()  # 清零梯度\n",
    "\n",
    "    if batch % 100 == 0:  # 每100个批次打印一次损失和进度\n",
    "      # 获取当前损失和已完成的样本数\n",
    "      loss, current = loss.item(), batch * batch_size + len(X)\n",
    "      print(f\"loss: {loss:>7f}  [{current:>5d}/{size:>5d}]\")  # 打印损失和进度\n",
    "\n",
    "\n",
    "# dataloader: 测试数据加载器\n",
    "# model: 待测试的模型\n",
    "# criterion: 损失函数\n",
    "def test_loop(dataloader, model, loss_fn):\n",
    "  model.eval()  # 将模型设置为评估模式\n",
    "  size = len(dataloader.dataset)  # 获取数据集大小\n",
    "  num_batches = len(dataloader)  # 获取批次数量\n",
    "  test_loss, correct = 0, 0  # 初始化测试损失和正确预测数\n",
    "\n",
    "  with torch.no_grad():  # 禁用梯度计算\n",
    "    for X, y in dataloader:  # 遍历数据加载器中的每个批次\n",
    "      pred = model(X)  # 做出预测\n",
    "      test_loss += loss_fn(pred, y).item()  # 累加测试损失\n",
    "      correct += (pred.argmax(1) == y).type(torch.float).sum().item()  # 累加正确预测数\n",
    "\n",
    "  test_loss /= num_batches  # 计算平均测试损失\n",
    "  correct /= size  # 计算准确率\n",
    "  print(f\"Test Error \\n Accuracy: {(100*correct):>0.1f}%, Avg loss: {test_loss:>8f} \\n\")"
   ]
  },
  {
   "cell_type": "code",
   "execution_count": 36,
   "metadata": {},
   "outputs": [
    {
     "name": "stdout",
     "output_type": "stream",
     "text": [
      "Epoch 1\n",
      "-------------------------------\n",
      "loss: 2.294127  [   64/60000]\n",
      "loss: 0.541099  [ 6464/60000]\n",
      "loss: 0.390256  [12864/60000]\n",
      "loss: 0.492326  [19264/60000]\n",
      "loss: 0.432621  [25664/60000]\n",
      "loss: 0.415503  [32064/60000]\n",
      "loss: 0.365265  [38464/60000]\n",
      "loss: 0.515963  [44864/60000]\n",
      "loss: 0.462142  [51264/60000]\n",
      "loss: 0.509387  [57664/60000]\n",
      "Test Error \n",
      " Accuracy: 85.0%, Avg loss: 0.413701 \n",
      "\n",
      "Epoch 2\n",
      "-------------------------------\n",
      "loss: 0.259971  [   64/60000]\n",
      "loss: 0.382215  [ 6464/60000]\n",
      "loss: 0.291199  [12864/60000]\n",
      "loss: 0.380955  [19264/60000]\n",
      "loss: 0.383098  [25664/60000]\n",
      "loss: 0.384879  [32064/60000]\n",
      "loss: 0.309478  [38464/60000]\n",
      "loss: 0.507732  [44864/60000]\n",
      "loss: 0.369907  [51264/60000]\n",
      "loss: 0.432584  [57664/60000]\n",
      "Test Error \n",
      " Accuracy: 85.4%, Avg loss: 0.396890 \n",
      "\n",
      "Epoch 3\n",
      "-------------------------------\n",
      "loss: 0.214325  [   64/60000]\n",
      "loss: 0.349897  [ 6464/60000]\n",
      "loss: 0.241931  [12864/60000]\n",
      "loss: 0.335970  [19264/60000]\n",
      "loss: 0.357125  [25664/60000]\n",
      "loss: 0.369132  [32064/60000]\n",
      "loss: 0.273517  [38464/60000]\n",
      "loss: 0.480564  [44864/60000]\n",
      "loss: 0.329234  [51264/60000]\n",
      "loss: 0.381965  [57664/60000]\n",
      "Test Error \n",
      " Accuracy: 86.2%, Avg loss: 0.386446 \n",
      "\n",
      "Epoch 4\n",
      "-------------------------------\n",
      "loss: 0.214280  [   64/60000]\n",
      "loss: 0.309263  [ 6464/60000]\n",
      "loss: 0.204639  [12864/60000]\n",
      "loss: 0.260956  [19264/60000]\n",
      "loss: 0.338924  [25664/60000]\n",
      "loss: 0.313975  [32064/60000]\n",
      "loss: 0.235594  [38464/60000]\n",
      "loss: 0.432193  [44864/60000]\n",
      "loss: 0.293441  [51264/60000]\n",
      "loss: 0.327760  [57664/60000]\n",
      "Test Error \n",
      " Accuracy: 86.2%, Avg loss: 0.378452 \n",
      "\n",
      "Epoch 5\n",
      "-------------------------------\n",
      "loss: 0.194169  [   64/60000]\n",
      "loss: 0.261218  [ 6464/60000]\n",
      "loss: 0.201616  [12864/60000]\n",
      "loss: 0.256378  [19264/60000]\n",
      "loss: 0.340847  [25664/60000]\n",
      "loss: 0.294739  [32064/60000]\n",
      "loss: 0.225811  [38464/60000]\n",
      "loss: 0.348783  [44864/60000]\n",
      "loss: 0.275216  [51264/60000]\n",
      "loss: 0.291173  [57664/60000]\n",
      "Test Error \n",
      " Accuracy: 87.1%, Avg loss: 0.354122 \n",
      "\n",
      "Epoch 6\n",
      "-------------------------------\n",
      "loss: 0.186298  [   64/60000]\n",
      "loss: 0.264753  [ 6464/60000]\n",
      "loss: 0.230134  [12864/60000]\n",
      "loss: 0.229209  [19264/60000]\n",
      "loss: 0.416193  [25664/60000]\n",
      "loss: 0.251757  [32064/60000]\n",
      "loss: 0.197074  [38464/60000]\n",
      "loss: 0.339880  [44864/60000]\n",
      "loss: 0.274008  [51264/60000]\n",
      "loss: 0.269598  [57664/60000]\n",
      "Test Error \n",
      " Accuracy: 87.6%, Avg loss: 0.347140 \n",
      "\n",
      "Epoch 7\n",
      "-------------------------------\n",
      "loss: 0.170387  [   64/60000]\n",
      "loss: 0.191365  [ 6464/60000]\n",
      "loss: 0.179657  [12864/60000]\n",
      "loss: 0.199310  [19264/60000]\n",
      "loss: 0.366545  [25664/60000]\n",
      "loss: 0.250290  [32064/60000]\n",
      "loss: 0.218667  [38464/60000]\n",
      "loss: 0.289733  [44864/60000]\n",
      "loss: 0.245529  [51264/60000]\n",
      "loss: 0.290836  [57664/60000]\n",
      "Test Error \n",
      " Accuracy: 88.2%, Avg loss: 0.337078 \n",
      "\n",
      "Epoch 8\n",
      "-------------------------------\n",
      "loss: 0.142586  [   64/60000]\n",
      "loss: 0.172807  [ 6464/60000]\n",
      "loss: 0.207791  [12864/60000]\n",
      "loss: 0.209637  [19264/60000]\n",
      "loss: 0.403913  [25664/60000]\n",
      "loss: 0.262434  [32064/60000]\n",
      "loss: 0.197047  [38464/60000]\n",
      "loss: 0.330120  [44864/60000]\n",
      "loss: 0.252107  [51264/60000]\n",
      "loss: 0.230461  [57664/60000]\n",
      "Test Error \n",
      " Accuracy: 88.0%, Avg loss: 0.342077 \n",
      "\n",
      "Epoch 9\n",
      "-------------------------------\n",
      "loss: 0.115809  [   64/60000]\n",
      "loss: 0.184573  [ 6464/60000]\n",
      "loss: 0.234966  [12864/60000]\n",
      "loss: 0.174738  [19264/60000]\n",
      "loss: 0.327530  [25664/60000]\n",
      "loss: 0.250918  [32064/60000]\n",
      "loss: 0.147484  [38464/60000]\n",
      "loss: 0.301339  [44864/60000]\n",
      "loss: 0.229274  [51264/60000]\n",
      "loss: 0.239182  [57664/60000]\n",
      "Test Error \n",
      " Accuracy: 87.7%, Avg loss: 0.365297 \n",
      "\n",
      "Epoch 10\n",
      "-------------------------------\n",
      "loss: 0.149436  [   64/60000]\n",
      "loss: 0.181619  [ 6464/60000]\n",
      "loss: 0.226541  [12864/60000]\n",
      "loss: 0.209350  [19264/60000]\n",
      "loss: 0.334816  [25664/60000]\n",
      "loss: 0.217970  [32064/60000]\n",
      "loss: 0.171069  [38464/60000]\n",
      "loss: 0.261582  [44864/60000]\n",
      "loss: 0.218254  [51264/60000]\n",
      "loss: 0.181634  [57664/60000]\n",
      "Test Error \n",
      " Accuracy: 88.2%, Avg loss: 0.354440 \n",
      "\n",
      "Done!\n"
     ]
    }
   ],
   "source": [
    "loss_fn = nn.CrossEntropyLoss()\n",
    "# optimizer = torch.optim.SGD(model.parameters(), lr=learning_rate)\n",
    "optimizer = torch.optim.Adam(model.parameters(), lr=learning_rate)\n",
    "\n",
    "epochs = 10\n",
    "for t in range(epochs):\n",
    "  print(f\"Epoch {t+1}\\n-------------------------------\")\n",
    "  train_loop(train_dataloader, model, loss_fn, optimizer)\n",
    "  test_loop(test_dataloader, model, loss_fn)\n",
    "print(\"Done!\")"
   ]
  },
  {
   "cell_type": "markdown",
   "metadata": {},
   "source": [
    "## Save and Load the Model\n",
    "\n",
    "https://pytorch.org/tutorials/beginner/basics/saveloadrun_tutorial.html\n"
   ]
  },
  {
   "cell_type": "code",
   "execution_count": 37,
   "metadata": {},
   "outputs": [],
   "source": [
    "# PyTorch 模型将学习到的参数存储在一个内部状态字典中，称为 state_dict 。这些可以通过 torch.save 方法持久化：\n",
    "model = models.vgg16(weights=\"IMAGENET1K_V1\")\n",
    "torch.save(model.state_dict(), \"model_weights.pth\")\n"
   ]
  },
  {
   "cell_type": "code",
   "execution_count": 38,
   "metadata": {},
   "outputs": [
    {
     "data": {
      "text/plain": [
       "VGG(\n",
       "  (features): Sequential(\n",
       "    (0): Conv2d(3, 64, kernel_size=(3, 3), stride=(1, 1), padding=(1, 1))\n",
       "    (1): ReLU(inplace=True)\n",
       "    (2): Conv2d(64, 64, kernel_size=(3, 3), stride=(1, 1), padding=(1, 1))\n",
       "    (3): ReLU(inplace=True)\n",
       "    (4): MaxPool2d(kernel_size=2, stride=2, padding=0, dilation=1, ceil_mode=False)\n",
       "    (5): Conv2d(64, 128, kernel_size=(3, 3), stride=(1, 1), padding=(1, 1))\n",
       "    (6): ReLU(inplace=True)\n",
       "    (7): Conv2d(128, 128, kernel_size=(3, 3), stride=(1, 1), padding=(1, 1))\n",
       "    (8): ReLU(inplace=True)\n",
       "    (9): MaxPool2d(kernel_size=2, stride=2, padding=0, dilation=1, ceil_mode=False)\n",
       "    (10): Conv2d(128, 256, kernel_size=(3, 3), stride=(1, 1), padding=(1, 1))\n",
       "    (11): ReLU(inplace=True)\n",
       "    (12): Conv2d(256, 256, kernel_size=(3, 3), stride=(1, 1), padding=(1, 1))\n",
       "    (13): ReLU(inplace=True)\n",
       "    (14): Conv2d(256, 256, kernel_size=(3, 3), stride=(1, 1), padding=(1, 1))\n",
       "    (15): ReLU(inplace=True)\n",
       "    (16): MaxPool2d(kernel_size=2, stride=2, padding=0, dilation=1, ceil_mode=False)\n",
       "    (17): Conv2d(256, 512, kernel_size=(3, 3), stride=(1, 1), padding=(1, 1))\n",
       "    (18): ReLU(inplace=True)\n",
       "    (19): Conv2d(512, 512, kernel_size=(3, 3), stride=(1, 1), padding=(1, 1))\n",
       "    (20): ReLU(inplace=True)\n",
       "    (21): Conv2d(512, 512, kernel_size=(3, 3), stride=(1, 1), padding=(1, 1))\n",
       "    (22): ReLU(inplace=True)\n",
       "    (23): MaxPool2d(kernel_size=2, stride=2, padding=0, dilation=1, ceil_mode=False)\n",
       "    (24): Conv2d(512, 512, kernel_size=(3, 3), stride=(1, 1), padding=(1, 1))\n",
       "    (25): ReLU(inplace=True)\n",
       "    (26): Conv2d(512, 512, kernel_size=(3, 3), stride=(1, 1), padding=(1, 1))\n",
       "    (27): ReLU(inplace=True)\n",
       "    (28): Conv2d(512, 512, kernel_size=(3, 3), stride=(1, 1), padding=(1, 1))\n",
       "    (29): ReLU(inplace=True)\n",
       "    (30): MaxPool2d(kernel_size=2, stride=2, padding=0, dilation=1, ceil_mode=False)\n",
       "  )\n",
       "  (avgpool): AdaptiveAvgPool2d(output_size=(7, 7))\n",
       "  (classifier): Sequential(\n",
       "    (0): Linear(in_features=25088, out_features=4096, bias=True)\n",
       "    (1): ReLU(inplace=True)\n",
       "    (2): Dropout(p=0.5, inplace=False)\n",
       "    (3): Linear(in_features=4096, out_features=4096, bias=True)\n",
       "    (4): ReLU(inplace=True)\n",
       "    (5): Dropout(p=0.5, inplace=False)\n",
       "    (6): Linear(in_features=4096, out_features=1000, bias=True)\n",
       "  )\n",
       ")"
      ]
     },
     "execution_count": 38,
     "metadata": {},
     "output_type": "execute_result"
    }
   ],
   "source": [
    "# 加载模型\n",
    "# 要加载模型权重，您需要首先创建相同模型的实例，然后使用 load_state_dict() 方法加载参数。\n",
    "model = models.vgg16()  # we do not specify ``weights``, i.e. create untrained model\n",
    "# 在下面的代码中，我们设置 weights_only=True 以限制在反序列化期间执行的函数仅限于加载权重所需的函数。\n",
    "# 使用 weights_only=True 被认为是在加载权重时的最佳实践。\n",
    "model.load_state_dict(torch.load(\"model_weights.pth\", weights_only=True))\n",
    "model.eval()\n",
    "# 在推理之前，请确保调用 model.eval() 方法以将 dropout 和批归一化层设置为评估模式。\n",
    "# 未能做到这一点将导致推理结果不一致。"
   ]
  },
  {
   "cell_type": "markdown",
   "metadata": {},
   "source": [
    "### 使用形状保存和加载模型\n",
    "\n",
    "在加载模型权重时，我们需要先实例化模型类，因为该类定义了网络的结构。我们可能希望将该类的结构与模型一起保存，在这种情况下，我们可以将 `model` （而不是 `model.state_dict()` ）传递给保存函数：\n"
   ]
  },
  {
   "cell_type": "code",
   "execution_count": 39,
   "metadata": {},
   "outputs": [],
   "source": [
    "torch.save(model, \"model.pth\")\n"
   ]
  },
  {
   "cell_type": "code",
   "execution_count": 40,
   "metadata": {},
   "outputs": [
    {
     "data": {
      "text/plain": [
       "(VGG(\n",
       "   (features): Sequential(\n",
       "     (0): Conv2d(3, 64, kernel_size=(3, 3), stride=(1, 1), padding=(1, 1))\n",
       "     (1): ReLU(inplace=True)\n",
       "     (2): Conv2d(64, 64, kernel_size=(3, 3), stride=(1, 1), padding=(1, 1))\n",
       "     (3): ReLU(inplace=True)\n",
       "     (4): MaxPool2d(kernel_size=2, stride=2, padding=0, dilation=1, ceil_mode=False)\n",
       "     (5): Conv2d(64, 128, kernel_size=(3, 3), stride=(1, 1), padding=(1, 1))\n",
       "     (6): ReLU(inplace=True)\n",
       "     (7): Conv2d(128, 128, kernel_size=(3, 3), stride=(1, 1), padding=(1, 1))\n",
       "     (8): ReLU(inplace=True)\n",
       "     (9): MaxPool2d(kernel_size=2, stride=2, padding=0, dilation=1, ceil_mode=False)\n",
       "     (10): Conv2d(128, 256, kernel_size=(3, 3), stride=(1, 1), padding=(1, 1))\n",
       "     (11): ReLU(inplace=True)\n",
       "     (12): Conv2d(256, 256, kernel_size=(3, 3), stride=(1, 1), padding=(1, 1))\n",
       "     (13): ReLU(inplace=True)\n",
       "     (14): Conv2d(256, 256, kernel_size=(3, 3), stride=(1, 1), padding=(1, 1))\n",
       "     (15): ReLU(inplace=True)\n",
       "     (16): MaxPool2d(kernel_size=2, stride=2, padding=0, dilation=1, ceil_mode=False)\n",
       "     (17): Conv2d(256, 512, kernel_size=(3, 3), stride=(1, 1), padding=(1, 1))\n",
       "     (18): ReLU(inplace=True)\n",
       "     (19): Conv2d(512, 512, kernel_size=(3, 3), stride=(1, 1), padding=(1, 1))\n",
       "     (20): ReLU(inplace=True)\n",
       "     (21): Conv2d(512, 512, kernel_size=(3, 3), stride=(1, 1), padding=(1, 1))\n",
       "     (22): ReLU(inplace=True)\n",
       "     (23): MaxPool2d(kernel_size=2, stride=2, padding=0, dilation=1, ceil_mode=False)\n",
       "     (24): Conv2d(512, 512, kernel_size=(3, 3), stride=(1, 1), padding=(1, 1))\n",
       "     (25): ReLU(inplace=True)\n",
       "     (26): Conv2d(512, 512, kernel_size=(3, 3), stride=(1, 1), padding=(1, 1))\n",
       "     (27): ReLU(inplace=True)\n",
       "     (28): Conv2d(512, 512, kernel_size=(3, 3), stride=(1, 1), padding=(1, 1))\n",
       "     (29): ReLU(inplace=True)\n",
       "     (30): MaxPool2d(kernel_size=2, stride=2, padding=0, dilation=1, ceil_mode=False)\n",
       "   )\n",
       "   (avgpool): AdaptiveAvgPool2d(output_size=(7, 7))\n",
       "   (classifier): Sequential(\n",
       "     (0): Linear(in_features=25088, out_features=4096, bias=True)\n",
       "     (1): ReLU(inplace=True)\n",
       "     (2): Dropout(p=0.5, inplace=False)\n",
       "     (3): Linear(in_features=4096, out_features=4096, bias=True)\n",
       "     (4): ReLU(inplace=True)\n",
       "     (5): Dropout(p=0.5, inplace=False)\n",
       "     (6): Linear(in_features=4096, out_features=1000, bias=True)\n",
       "   )\n",
       " ),)"
      ]
     },
     "execution_count": 40,
     "metadata": {},
     "output_type": "execute_result"
    }
   ],
   "source": [
    "# 如《保存和加载 torch.nn.Modules》中所述，保存 state_dict 被认为是最佳实践。\n",
    "# 然而，下面我们使用 weights_only=False ，因为这涉及到加载模型，这是 torch.save 的一个遗留用例。\n",
    "\n",
    "model = (torch.load(\"model.pth\", weights_only=False),)\n",
    "model\n",
    "\n",
    "# 这种方法在序列化模型时使用 Python 的 pickle 模块，因此在加载模型时依赖于实际的类定义可用。"
   ]
  }
 ],
 "metadata": {
  "kernelspec": {
   "display_name": "learn-ai",
   "language": "python",
   "name": "python3"
  },
  "language_info": {
   "codemirror_mode": {
    "name": "ipython",
    "version": 3
   },
   "file_extension": ".py",
   "mimetype": "text/x-python",
   "name": "python",
   "nbconvert_exporter": "python",
   "pygments_lexer": "ipython3",
   "version": "3.12.7"
  }
 },
 "nbformat": 4,
 "nbformat_minor": 2
}
