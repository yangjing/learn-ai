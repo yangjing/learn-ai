{
 "cells": [
  {
   "cell_type": "code",
   "execution_count": 1,
   "metadata": {
    "ExecuteTime": {
     "end_time": "2024-12-23T07:15:23.151720Z",
     "start_time": "2024-12-23T07:15:23.148017Z"
    }
   },
   "outputs": [
    {
     "name": "stdout",
     "output_type": "stream",
     "text": [
      "[4.8, 1.21, 2.385]\n"
     ]
    }
   ],
   "source": [
    "inputs = [1, 2, 3, 2.5]\n",
    "weights = [[0.2, 0.8, -0.5, 1], [0.5, -0.91, 0.26, -0.5], [-0.26, -0.27, 0.17, 0.87]]\n",
    "biases = [2, 3, 0.5]\n",
    "\n",
    "layer_outputs = []\n",
    "\n",
    "for neuron_weight, n_biases in zip(weights, biases):\n",
    "  neuron_output = 0\n",
    "  for n_input, n_weight in zip(inputs, neuron_weight):\n",
    "    neuron_output += n_input * n_weight\n",
    "  # add bias\n",
    "  neuron_output += n_biases\n",
    "  # call empty list and add those\n",
    "  layer_outputs.append(neuron_output)\n",
    "\n",
    "print(layer_outputs)"
   ]
  },
  {
   "cell_type": "code",
   "execution_count": 2,
   "metadata": {
    "ExecuteTime": {
     "end_time": "2024-12-23T07:15:23.266777Z",
     "start_time": "2024-12-23T07:15:23.264895Z"
    }
   },
   "outputs": [],
   "source": [
    "# array\n",
    "a = [[[2, 4, 6, 1], [2, 3, 6, 2]], [[12, 3, 4, 6], [1, 4, 4, 6]], [[3, 4.5, 6, 2], [2, 3, 4, 1]]]\n",
    "\n",
    "# 3 dimnsion, 2 list and 4 element"
   ]
  },
  {
   "cell_type": "code",
   "execution_count": 3,
   "metadata": {
    "ExecuteTime": {
     "end_time": "2024-12-23T07:15:23.290949Z",
     "start_time": "2024-12-23T07:15:23.287999Z"
    }
   },
   "outputs": [
    {
     "data": {
      "text/plain": [
       "3"
      ]
     },
     "execution_count": 3,
     "metadata": {},
     "output_type": "execute_result"
    }
   ],
   "source": [
    "len(a)\n",
    "# a.shape"
   ]
  },
  {
   "cell_type": "code",
   "execution_count": 4,
   "metadata": {
    "ExecuteTime": {
     "end_time": "2024-12-23T07:15:23.338222Z",
     "start_time": "2024-12-23T07:15:23.336660Z"
    }
   },
   "outputs": [],
   "source": [
    "# python a 1-dimensional array represent an array"
   ]
  },
  {
   "cell_type": "code",
   "execution_count": 5,
   "metadata": {
    "ExecuteTime": {
     "end_time": "2024-12-23T07:15:23.368764Z",
     "start_time": "2024-12-23T07:15:23.366665Z"
    }
   },
   "outputs": [],
   "source": [
    "# First layer with Numpy library\n",
    "inputs = [1, 2, 3, 2.5]\n",
    "weights = [[0.2, 0.8, -0.5, 1], [0.5, -0.91, 0.26, -0.5], [-0.26, -0.27, 0.17, 0.87]]\n",
    "biases = [2, 3, 0.5]"
   ]
  },
  {
   "cell_type": "code",
   "execution_count": 6,
   "metadata": {
    "ExecuteTime": {
     "end_time": "2024-12-23T07:15:24.023965Z",
     "start_time": "2024-12-23T07:15:23.382476Z"
    }
   },
   "outputs": [],
   "source": [
    "import numpy as np"
   ]
  },
  {
   "cell_type": "code",
   "execution_count": 7,
   "metadata": {
    "ExecuteTime": {
     "end_time": "2024-12-23T07:15:24.049988Z",
     "start_time": "2024-12-23T07:15:24.047519Z"
    }
   },
   "outputs": [
    {
     "name": "stdout",
     "output_type": "stream",
     "text": [
      "[4.8   1.21  2.385]\n"
     ]
    }
   ],
   "source": [
    "# output =np.dot(inputs,weights)+biases #not working\n",
    "output = np.dot(weights, inputs) + biases\n",
    "print(output)"
   ]
  },
  {
   "cell_type": "code",
   "execution_count": 8,
   "metadata": {
    "ExecuteTime": {
     "end_time": "2024-12-23T07:15:24.059777Z",
     "start_time": "2024-12-23T07:15:24.058220Z"
    }
   },
   "outputs": [],
   "source": [
    "a = [2, 3, 4]"
   ]
  },
  {
   "cell_type": "code",
   "execution_count": 9,
   "metadata": {
    "ExecuteTime": {
     "end_time": "2024-12-23T07:15:24.071780Z",
     "start_time": "2024-12-23T07:15:24.070086Z"
    }
   },
   "outputs": [],
   "source": [
    "a = np.array([[2, 3, 4, 5]])\n",
    "# array not first dimension in python bcoz first dimension in python is list"
   ]
  },
  {
   "cell_type": "code",
   "execution_count": 10,
   "metadata": {
    "ExecuteTime": {
     "end_time": "2024-12-23T07:15:24.081995Z",
     "start_time": "2024-12-23T07:15:24.079654Z"
    }
   },
   "outputs": [
    {
     "data": {
      "text/plain": [
       "(1, 4)"
      ]
     },
     "execution_count": 10,
     "metadata": {},
     "output_type": "execute_result"
    }
   ],
   "source": [
    "a.shape"
   ]
  },
  {
   "cell_type": "code",
   "execution_count": 11,
   "metadata": {
    "ExecuteTime": {
     "end_time": "2024-12-23T07:15:24.098896Z",
     "start_time": "2024-12-23T07:15:24.097012Z"
    }
   },
   "outputs": [],
   "source": [
    "b = np.array([a])"
   ]
  },
  {
   "cell_type": "code",
   "execution_count": 12,
   "metadata": {
    "ExecuteTime": {
     "end_time": "2024-12-23T07:15:24.109704Z",
     "start_time": "2024-12-23T07:15:24.107853Z"
    }
   },
   "outputs": [
    {
     "name": "stdout",
     "output_type": "stream",
     "text": [
      "(1, 1, 4)\n",
      "[[[2 3 4 5]]]\n"
     ]
    }
   ],
   "source": [
    "print(b.shape)\n",
    "print(b)"
   ]
  },
  {
   "cell_type": "code",
   "execution_count": 13,
   "metadata": {
    "ExecuteTime": {
     "end_time": "2024-12-23T07:15:24.122161Z",
     "start_time": "2024-12-23T07:15:24.120173Z"
    }
   },
   "outputs": [],
   "source": [
    "b = np.expand_dims(np.array(a), axis=0)"
   ]
  },
  {
   "cell_type": "code",
   "execution_count": 14,
   "metadata": {
    "ExecuteTime": {
     "end_time": "2024-12-23T07:15:24.138755Z",
     "start_time": "2024-12-23T07:15:24.136045Z"
    }
   },
   "outputs": [
    {
     "data": {
      "text/plain": [
       "(1, 1, 4)"
      ]
     },
     "execution_count": 14,
     "metadata": {},
     "output_type": "execute_result"
    }
   ],
   "source": [
    "b.shape"
   ]
  },
  {
   "cell_type": "code",
   "execution_count": 15,
   "metadata": {
    "ExecuteTime": {
     "end_time": "2024-12-23T07:15:24.159651Z",
     "start_time": "2024-12-23T07:15:24.156955Z"
    }
   },
   "outputs": [
    {
     "data": {
      "text/plain": [
       "array([[[2, 3, 4, 5]]])"
      ]
     },
     "execution_count": 15,
     "metadata": {},
     "output_type": "execute_result"
    }
   ],
   "source": [
    "b"
   ]
  },
  {
   "cell_type": "code",
   "execution_count": 16,
   "metadata": {
    "ExecuteTime": {
     "end_time": "2024-12-23T07:15:24.175602Z",
     "start_time": "2024-12-23T07:15:24.173908Z"
    }
   },
   "outputs": [],
   "source": [
    "a = [2, 3, 4]\n",
    "b = [4, 7, 2]"
   ]
  },
  {
   "cell_type": "code",
   "execution_count": 17,
   "metadata": {
    "ExecuteTime": {
     "end_time": "2024-12-23T07:15:24.187639Z",
     "start_time": "2024-12-23T07:15:24.185164Z"
    }
   },
   "outputs": [
    {
     "data": {
      "text/plain": [
       "37"
      ]
     },
     "execution_count": 17,
     "metadata": {},
     "output_type": "execute_result"
    }
   ],
   "source": [
    "np.dot(a, b)"
   ]
  },
  {
   "cell_type": "code",
   "execution_count": 18,
   "metadata": {
    "ExecuteTime": {
     "end_time": "2024-12-23T07:15:24.205770Z",
     "start_time": "2024-12-23T07:15:24.203962Z"
    }
   },
   "outputs": [],
   "source": [
    "a = np.array([a])\n",
    "b = np.array([b]).T"
   ]
  },
  {
   "cell_type": "code",
   "execution_count": 19,
   "metadata": {
    "ExecuteTime": {
     "end_time": "2024-12-23T07:15:24.216592Z",
     "start_time": "2024-12-23T07:15:24.214014Z"
    }
   },
   "outputs": [],
   "source": [
    "a = np.dot(a, b)"
   ]
  },
  {
   "cell_type": "code",
   "execution_count": 20,
   "metadata": {
    "ExecuteTime": {
     "end_time": "2024-12-23T07:15:24.227952Z",
     "start_time": "2024-12-23T07:15:24.225778Z"
    }
   },
   "outputs": [
    {
     "data": {
      "text/plain": [
       "(1, 1)"
      ]
     },
     "execution_count": 20,
     "metadata": {},
     "output_type": "execute_result"
    }
   ],
   "source": [
    "a.shape"
   ]
  },
  {
   "cell_type": "code",
   "execution_count": 21,
   "metadata": {
    "ExecuteTime": {
     "end_time": "2024-12-23T07:15:24.250331Z",
     "start_time": "2024-12-23T07:15:24.247915Z"
    }
   },
   "outputs": [
    {
     "data": {
      "text/plain": [
       "array([[37]])"
      ]
     },
     "execution_count": 21,
     "metadata": {},
     "output_type": "execute_result"
    }
   ],
   "source": [
    "a"
   ]
  },
  {
   "cell_type": "markdown",
   "metadata": {},
   "source": [
    "### SortCut Way\n"
   ]
  },
  {
   "cell_type": "code",
   "execution_count": 22,
   "metadata": {
    "ExecuteTime": {
     "end_time": "2024-12-23T07:15:24.274110Z",
     "start_time": "2024-12-23T07:15:24.272002Z"
    }
   },
   "outputs": [],
   "source": [
    "inputs = [[1, 2, 3, 2.5], [1, 4, 5, 6], [2, 5, 7, 2]]\n",
    "weights = [[0.2, 0.8, -0.5, 1], [0.5, -0.91, 0.26, -0.5], [-0.26, -0.27, 0.17, 0.87]]\n",
    "biases = [2, 3, 0.5]"
   ]
  },
  {
   "cell_type": "code",
   "execution_count": 23,
   "metadata": {
    "ExecuteTime": {
     "end_time": "2024-12-23T07:15:25.256194Z",
     "start_time": "2024-12-23T07:15:25.253694Z"
    }
   },
   "outputs": [
    {
     "data": {
      "text/plain": [
       "array([[ 4.8  ,  1.21 ,  2.385],\n",
       "       [ 8.9  , -1.84 ,  5.23 ],\n",
       "       [ 4.9  ,  0.27 ,  1.56 ]])"
      ]
     },
     "execution_count": 23,
     "metadata": {},
     "output_type": "execute_result"
    }
   ],
   "source": [
    "np.dot(inputs, np.array(weights).T) + biases"
   ]
  },
  {
   "cell_type": "code",
   "execution_count": null,
   "metadata": {
    "ExecuteTime": {
     "end_time": "2024-12-23T07:15:25.418956Z",
     "start_time": "2024-12-23T07:15:25.417487Z"
    }
   },
   "outputs": [],
   "source": []
  }
 ],
 "metadata": {
  "kernelspec": {
   "display_name": "Python 3",
   "language": "python",
   "name": "python3"
  },
  "language_info": {
   "codemirror_mode": {
    "name": "ipython",
    "version": 3
   },
   "file_extension": ".py",
   "mimetype": "text/x-python",
   "name": "python",
   "nbconvert_exporter": "python",
   "pygments_lexer": "ipython3",
   "version": "3.12.7"
  }
 },
 "nbformat": 4,
 "nbformat_minor": 4
}
