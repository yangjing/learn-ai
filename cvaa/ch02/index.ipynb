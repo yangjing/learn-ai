{
 "cells": [
  {
   "metadata": {},
   "cell_type": "markdown",
   "source": "# 02 Image formation",
   "id": "7e97700efb674264"
  },
  {
   "metadata": {
    "ExecuteTime": {
     "end_time": "2025-01-13T06:48:59.256676Z",
     "start_time": "2025-01-13T06:48:59.253434Z"
    }
   },
   "cell_type": "code",
   "outputs": [],
   "execution_count": 9,
   "source": [
    "import numpy as np\n",
    "import math"
   ],
   "id": "1633898dbad65a5e"
  },
  {
   "metadata": {
    "ExecuteTime": {
     "end_time": "2025-01-13T06:51:20.100636Z",
     "start_time": "2025-01-13T06:51:20.097904Z"
    }
   },
   "cell_type": "code",
   "source": [
    "s = math.pi\n",
    "R = np.array([[math.cos(s), -math.sin(s)], [math.sin(s), math.cos(s)]])\n",
    "print(R)\n",
    "print(R.T)\n",
    "print(R @ R.T)\n",
    "print(R * R.T)"
   ],
   "id": "89ca962ed9de114b",
   "outputs": [
    {
     "name": "stdout",
     "output_type": "stream",
     "text": [
      "[[-1.0000000e+00 -1.2246468e-16]\n",
      " [ 1.2246468e-16 -1.0000000e+00]]\n",
      "[[-1.0000000e+00  1.2246468e-16]\n",
      " [-1.2246468e-16 -1.0000000e+00]]\n",
      "[[1. 0.]\n",
      " [0. 1.]]\n",
      "[[ 1.00000000e+00 -1.49975978e-32]\n",
      " [-1.49975978e-32  1.00000000e+00]]\n"
     ]
    }
   ],
   "execution_count": 20
  },
  {
   "metadata": {},
   "cell_type": "code",
   "outputs": [],
   "execution_count": null,
   "source": "",
   "id": "4b749b6849296e95"
  }
 ],
 "metadata": {
  "kernelspec": {
   "display_name": "Python 3",
   "language": "python",
   "name": "python3"
  },
  "language_info": {
   "codemirror_mode": {
    "name": "ipython",
    "version": 2
   },
   "file_extension": ".py",
   "mimetype": "text/x-python",
   "name": "python",
   "nbconvert_exporter": "python",
   "pygments_lexer": "ipython2",
   "version": "2.7.6"
  }
 },
 "nbformat": 4,
 "nbformat_minor": 5
}
