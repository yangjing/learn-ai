{
 "cells": [
  {
   "cell_type": "markdown",
   "id": "dffd763a",
   "metadata": {},
   "source": [
    "# Time travel (时间旅行)\n"
   ]
  },
  {
   "cell_type": "code",
   "execution_count": 1,
   "id": "386ab242",
   "metadata": {},
   "outputs": [
    {
     "data": {
      "text/plain": [
       "True"
      ]
     },
     "execution_count": 1,
     "metadata": {},
     "output_type": "execute_result"
    }
   ],
   "source": [
    "from typing import Annotated\n",
    "from dotenv import load_dotenv\n",
    "\n",
    "from langchain.chat_models import init_chat_model\n",
    "from langchain_tavily import TavilySearch\n",
    "from typing_extensions import TypedDict\n",
    "from langgraph.checkpoint.memory import InMemorySaver\n",
    "from langgraph.graph import StateGraph, START, END\n",
    "from langgraph.graph.message import add_messages\n",
    "from langgraph.prebuilt import ToolNode, tools_condition\n",
    "\n",
    "load_dotenv()\n"
   ]
  },
  {
   "cell_type": "code",
   "execution_count": 2,
   "id": "d6b01764",
   "metadata": {},
   "outputs": [],
   "source": [
    "llm = init_chat_model('deepseek:deepseek-chat')\n",
    "\n",
    "\n",
    "class State(TypedDict):\n",
    "  messages: Annotated[list, add_messages]\n",
    "\n",
    "\n",
    "graph_builder = StateGraph(State)\n",
    "\n",
    "tool = TavilySearch(max_results=2)\n",
    "tools = [tool]\n",
    "llm_with_tools = llm.bind_tools(tools)\n",
    "\n",
    "\n",
    "def chatbot(state: State):\n",
    "  return {'messages': [llm_with_tools.invoke(state['messages'])]}\n",
    "\n",
    "\n",
    "graph_builder.add_node('chatbot', chatbot)\n",
    "\n",
    "tool_node = ToolNode(tools=[tool])\n",
    "graph_builder.add_node('tools', tool_node)\n",
    "\n",
    "graph_builder.add_conditional_edges(\n",
    "  'chatbot',\n",
    "  tools_condition,\n",
    ")\n",
    "graph_builder.add_edge('tools', 'chatbot')\n",
    "graph_builder.add_edge(START, 'chatbot')\n",
    "graph_builder.add_edge('chatbot', END)\n",
    "\n",
    "memory = InMemorySaver()\n",
    "graph = graph_builder.compile(checkpointer=memory)"
   ]
  },
  {
   "cell_type": "markdown",
   "id": "99a36afd",
   "metadata": {},
   "source": [
    "## Add steps\n",
    "\n",
    "向图表中添加步骤。每个步骤将在其状态历史记录中进行检查点记录：\n"
   ]
  },
  {
   "cell_type": "code",
   "execution_count": 3,
   "id": "bcbcd73b",
   "metadata": {},
   "outputs": [
    {
     "name": "stdout",
     "output_type": "stream",
     "text": [
      "================================\u001b[1m Human Message \u001b[0m=================================\n",
      "\n",
      "我正在学习 LangGraph。你能帮我做一些研究吗？你可以调用 TavilySearch 工具。\n",
      "==================================\u001b[1m Ai Message \u001b[0m==================================\n",
      "\n",
      "当然可以！LangGraph 是一个用于构建和操作图结构的库，通常用于自然语言处理（NLP）和机器学习任务。我可以帮你搜索相关的资料、教程、文档或最新动态。\n",
      "\n",
      "请告诉我你具体想了解 LangGraph 的哪些方面？例如：\n",
      "1. 基础教程或入门指南\n",
      "2. 高级功能或应用案例\n",
      "3. 与其他工具（如 LangChain）的集成\n",
      "4. 最新版本或更新内容\n",
      "5. 其他特定问题\n",
      "\n",
      "或者你可以直接告诉我你的学习目标，我会更有针对性地帮你搜索。\n",
      "Tool Calls:\n",
      "  tavily_search (call_0_7e5c67ec-7377-4563-a190-392ba30c79b5)\n",
      " Call ID: call_0_7e5c67ec-7377-4563-a190-392ba30c79b5\n",
      "  Args:\n",
      "    query: LangGraph tutorial\n",
      "    search_depth: advanced\n",
      "=================================\u001b[1m Tool Message \u001b[0m=================================\n",
      "Name: tavily_search\n",
      "\n",
      "{\"query\": \"LangGraph tutorial\", \"follow_up_questions\": null, \"answer\": null, \"images\": [], \"results\": [{\"url\": \"https://www.datacamp.com/tutorial/langgraph-tutorial\", \"title\": \"LangGraph Tutorial: What Is LangGraph and How to Use It?\", \"content\": \"Imagine you're building a complex, multi-agent large language model (LLM) application. It's exciting, but it comes with challenges: managing the state of various agents, coordinating their interactions, and handling errors effectively. This is where LangGraph can help.\\n\\nLangGraph is a library within the LangChain ecosystem designed to tackle these challenges head-on. LangGraph provides a framework for defining, coordinating, and executing multiple LLM agents (or chains) in a structured manner. [...] Build powerful multi-agent systems by applying emerging agentic design patterns in the LangGraph framework.\\n\\nSee DetailsStart Course\\n\\nSee More\\n\\nRelated\\n\\nTutorial ### LangGraph Studio Guide: Installation, Set Up, Use Cases\\n\\nLangGraph Studio is a visual development environment for LangChain’s LangGraph framework, simplifying the development of complex agentic applications built with LangChain components.\\n\\nImage 9: Dr Ana Rojo-Echeburúa's photo\\n\\nDr Ana Rojo-Echeburúa\\n\\n8 min\\n\\nImage 10 [...] In educational platforms, LangGraph can be used to create adaptive learning environments that cater to individual learning styles and needs. Multiple agents can assess a student's progress, provide customized exercises, and offer real-time feedback. The stateful nature of LangGraph ensures that the system retains information about each learner's performance and preferences, enabling a more personalized and effective educational experience.\\n\\nConclusion\\n----------\", \"score\": 0.8473754, \"raw_content\": null}, {\"url\": \"https://langchain-ai.github.io/langgraph/concepts/why-langgraph/\", \"title\": \"Learn LangGraph basics - Overview\", \"content\": \"Learn LangGraph basics¶\\n-----------------------------------------------------------------------------------------------------------------------------------\\n\\nTo get acquainted with LangGraph's key concepts and features, complete the following LangGraph basics tutorials series:\\n\\n1.   Build a basic chatbot\\n2.   Add tools\\n3.   Add memory\\n4.   Add human-in-the-loop controls\\n5.   Customize state\\n6.   Time travel [...] In completing this series of tutorials, you will build a support chatbot in LangGraph that can:\\n\\n   ✅ Answer common questions by searching the web\\n   ✅ Maintain conversation state across calls \\n   ✅ Route complex queries to a human for review \\n   ✅ Use custom state to control its behavior \\n   ✅ Rewind and explore alternative conversation paths \\n\\n Back to top Previous QuickstartNext Build a basic chatbot\\n\\n Copyright © 2025 LangChain, Inc | Consent Preferences\\n\\n Made with Material for MkDocs\", \"score\": 0.82391036, \"raw_content\": null}], \"response_time\": 2.3}\n",
      "==================================\u001b[1m Ai Message \u001b[0m==================================\n",
      "\n",
      "以下是一些关于 LangGraph 的教程资源，可以帮助你入门和深入学习：\n",
      "\n",
      "1. **[LangGraph Tutorial: What Is LangGraph and How to Use It?](https://www.datacamp.com/tutorial/langgraph-tutorial)**\n",
      "   - 这篇教程介绍了 LangGraph 的基本概念及其在构建多智能体大型语言模型（LLM）应用中的作用。它涵盖了如何管理多个智能体的状态、协调它们的交互以及处理错误等内容。\n",
      "\n",
      "2. **[Learn LangGraph Basics - Overview](https://langchain-ai.github.io/langgraph/concepts/why-langgraph/)**\n",
      "   - 这是 LangGraph 官方文档的一部分，提供了一系列基础教程，包括构建一个简单的聊天机器人、添加工具、记忆功能等。通过这些教程，你可以逐步掌握 LangGraph 的核心功能。\n",
      "\n",
      "如果你对某个特定主题感兴趣，或者需要更深入的内容，请告诉我，我可以进一步帮你搜索！\n"
     ]
    }
   ],
   "source": [
    "config = {'configurable': {'thread_id': '1'}}\n",
    "events = graph.stream(\n",
    "  {\n",
    "    'messages': [\n",
    "      {\n",
    "        'role': 'user',\n",
    "        # 提示可以调用工具，不然 deepseek 自主调用工具的意愿很低\n",
    "        'content': ('我正在学习 LangGraph。你能帮我做一些研究吗？你可以调用 TavilySearch 工具。'),\n",
    "      },\n",
    "    ],\n",
    "  },\n",
    "  config,\n",
    "  stream_mode='values',\n",
    ")\n",
    "for event in events:\n",
    "  if 'messages' in event:\n",
    "    event['messages'][-1].pretty_print()"
   ]
  },
  {
   "cell_type": "code",
   "execution_count": 4,
   "id": "4c9e22f1",
   "metadata": {},
   "outputs": [
    {
     "name": "stdout",
     "output_type": "stream",
     "text": [
      "================================\u001b[1m Human Message \u001b[0m=================================\n",
      "\n",
      "是的，这很有帮助。也许我可以用它来构建一个自主智能体！你可以调用 TavilySearch 工具。\n",
      "==================================\u001b[1m Ai Message \u001b[0m==================================\n",
      "Tool Calls:\n",
      "  tavily_search (call_0_da1e55ac-5180-44af-b06b-f01558951e93)\n",
      " Call ID: call_0_da1e55ac-5180-44af-b06b-f01558951e93\n",
      "  Args:\n",
      "    query: LangGraph autonomous agent\n",
      "    search_depth: advanced\n",
      "=================================\u001b[1m Tool Message \u001b[0m=================================\n",
      "Name: tavily_search\n",
      "\n",
      "{\"query\": \"LangGraph autonomous agent\", \"follow_up_questions\": null, \"answer\": null, \"images\": [], \"results\": [{\"url\": \"https://www.langchain.com/langgraph\", \"title\": \"LangGraph - LangChain\", \"content\": \"Design agent-driven user experiences with LangGraph Platform's APIs. Quickly deploy and scale your application with infrastructure built for agents. LangGraph sets the foundation for how we can build and scale AI workloads — from conversational agents, complex task automation, to custom LLM-backed experiences that 'just work'. The next chapter in building complex production-ready features with LLMs is agentic, and with LangGraph and LangSmith, LangChain delivers an out-of-the-box solution to iterate quickly, debug immediately, and scale effortlessly.” LangGraph sets the foundation for how we can build and scale AI workloads — from conversational agents, complex task automation, to custom LLM-backed experiences that 'just work'. LangGraph Platform is a service for deploying and scaling LangGraph applications, with an opinionated API for building agent UXs, plus an integrated developer studio.\", \"score\": 0.98563, \"raw_content\": null}, {\"url\": \"https://www.ibm.com/think/topics/langgraph\", \"title\": \"What is LangGraph? - IBM\", \"content\": \"LangGraph, created by LangChain, is an open source AI agent framework designed to build, deploy and manage complex generative AI agent workflows. At its core, LangGraph uses the power of graph-based architectures to model and manage the intricate relationships between various components of an AI agent workflow. LangGraph illuminates the processes within an AI workflow, allowing full transparency of the agent’s state. By combining these technologies with a set of APIs and tools, LangGraph provides users with a versatile platform for developing AI solutions and workflows including chatbots, state graphs and other agent-based systems. Nodes: In LangGraph, nodes represent individual components or agents within an AI workflow. LangGraph uses enhanced decision-making by modeling complex relationships between nodes, which means it uses AI agents to analyze their past actions and feedback.\", \"score\": 0.98518, \"raw_content\": null}], \"response_time\": 2.47}\n",
      "==================================\u001b[1m Ai Message \u001b[0m==================================\n",
      "\n",
      "以下是一些关于如何使用 LangGraph 构建自主智能体的资源：\n",
      "\n",
      "1. **[LangGraph - LangChain](https://www.langchain.com/langgraph)**\n",
      "   - LangGraph 提供了一个平台，用于设计和部署基于智能体的用户体验。它支持从对话智能体到复杂任务自动化的各种应用，并提供了快速迭代和扩展的工具。LangGraph 是构建生产级智能体应用的理想选择。\n",
      "\n",
      "2. **[What is LangGraph? - IBM](https://www.ibm.com/think/topics/langgraph)**\n",
      "   - 这篇文章介绍了 LangGraph 的核心概念，它是一个开源的 AI 智能体框架，专注于构建和管理复杂的生成式 AI 工作流。LangGraph 使用基于图的架构来建模和管理智能体工作流中的各个组件之间的关系。\n",
      "\n",
      "如果你对某个具体功能或实现细节感兴趣，可以告诉我，我可以进一步帮你搜索相关内容！\n"
     ]
    }
   ],
   "source": [
    "events = graph.stream(\n",
    "  {\n",
    "    'messages': [\n",
    "      {\n",
    "        'role': 'user',\n",
    "        'content': ('是的，这很有帮助。也许我可以用它来构建一个自主智能体！你可以调用 TavilySearch 工具。'),\n",
    "      },\n",
    "    ],\n",
    "  },\n",
    "  config,\n",
    "  stream_mode='values',\n",
    ")\n",
    "for event in events:\n",
    "  if 'messages' in event:\n",
    "    event['messages'][-1].pretty_print()"
   ]
  },
  {
   "cell_type": "markdown",
   "id": "870bf378",
   "metadata": {},
   "source": [
    "## Replay the full state history\n",
    "\n",
    "现在已经向聊天机器人添加了步骤，可以 `replay` 查看完整的状态历史记录，以查看所有发生的内容。\n"
   ]
  },
  {
   "cell_type": "code",
   "execution_count": 5,
   "id": "5f89598b",
   "metadata": {},
   "outputs": [
    {
     "name": "stdout",
     "output_type": "stream",
     "text": [
      "消息数量:  8 下一个节点:  ()\n",
      "--------------------------------------------------------------------------------\n",
      "消息数量:  7 下一个节点:  ('chatbot',)\n",
      "--------------------------------------------------------------------------------\n",
      "消息数量:  6 下一个节点:  ('tools',)\n",
      "--------------------------------------------------------------------------------\n",
      "消息数量:  5 下一个节点:  ('chatbot',)\n",
      "--------------------------------------------------------------------------------\n",
      "消息数量:  4 下一个节点:  ('__start__',)\n",
      "--------------------------------------------------------------------------------\n",
      "消息数量:  4 下一个节点:  ()\n",
      "--------------------------------------------------------------------------------\n",
      "消息数量:  3 下一个节点:  ('chatbot',)\n",
      "--------------------------------------------------------------------------------\n",
      "消息数量:  2 下一个节点:  ('tools',)\n",
      "--------------------------------------------------------------------------------\n",
      "消息数量:  1 下一个节点:  ('chatbot',)\n",
      "--------------------------------------------------------------------------------\n",
      "消息数量:  0 下一个节点:  ('__start__',)\n",
      "--------------------------------------------------------------------------------\n"
     ]
    }
   ],
   "source": [
    "to_replay = None\n",
    "for state in graph.get_state_history(config):\n",
    "  print('消息数量: ', len(state.values['messages']), '下一个节点: ', state.next)\n",
    "  print('-' * 80)\n",
    "  if len(state.values['messages']) == 6:\n",
    "    # 我们根据消息数量选择一个特定的状态。\n",
    "    to_replay = state"
   ]
  },
  {
   "cell_type": "markdown",
   "id": "65b9bf6a",
   "metadata": {},
   "source": [
    "检查点会在图的每个步骤中保存。这跨越了方法调用，因此您可以回溯到整个线程的历史记录。\n",
    "\n",
    "### Resume from a checkpoint\n"
   ]
  },
  {
   "cell_type": "code",
   "execution_count": 6,
   "id": "a0cb172b",
   "metadata": {},
   "outputs": [
    {
     "name": "stdout",
     "output_type": "stream",
     "text": [
      "('tools',)\n",
      "{'configurable': {'thread_id': '1', 'checkpoint_ns': '', 'checkpoint_id': '1f075f49-96f4-6244-8006-97410e0dae28'}}\n"
     ]
    }
   ],
   "source": [
    "print(to_replay.next)\n",
    "print(to_replay.config)"
   ]
  },
  {
   "cell_type": "markdown",
   "id": "f5d1bfb9",
   "metadata": {},
   "source": [
    "## Load a state from a moment-in-time\n",
    "\n",
    "检查点的 `to_replay.config` 包含一个 `checkpoint_id` 时间戳。提供此 `checkpoint_id` 值会告知 LangGraph 的检查点工具从该时间点加载状态。\n"
   ]
  },
  {
   "cell_type": "code",
   "execution_count": 7,
   "id": "6cb7d819",
   "metadata": {},
   "outputs": [
    {
     "name": "stdout",
     "output_type": "stream",
     "text": [
      "==================================\u001b[1m Ai Message \u001b[0m==================================\n",
      "Tool Calls:\n",
      "  tavily_search (call_0_da1e55ac-5180-44af-b06b-f01558951e93)\n",
      " Call ID: call_0_da1e55ac-5180-44af-b06b-f01558951e93\n",
      "  Args:\n",
      "    query: LangGraph autonomous agent\n",
      "    search_depth: advanced\n",
      "=================================\u001b[1m Tool Message \u001b[0m=================================\n",
      "Name: tavily_search\n",
      "\n",
      "{\"query\": \"LangGraph autonomous agent\", \"follow_up_questions\": null, \"answer\": null, \"images\": [], \"results\": [{\"url\": \"https://www.langchain.com/langgraph\", \"title\": \"LangGraph - LangChain\", \"content\": \"Design agent-driven user experiences with LangGraph Platform's APIs. Quickly deploy and scale your application with infrastructure built for agents. LangGraph sets the foundation for how we can build and scale AI workloads — from conversational agents, complex task automation, to custom LLM-backed experiences that 'just work'. The next chapter in building complex production-ready features with LLMs is agentic, and with LangGraph and LangSmith, LangChain delivers an out-of-the-box solution to iterate quickly, debug immediately, and scale effortlessly.” LangGraph sets the foundation for how we can build and scale AI workloads — from conversational agents, complex task automation, to custom LLM-backed experiences that 'just work'. LangGraph Platform is a service for deploying and scaling LangGraph applications, with an opinionated API for building agent UXs, plus an integrated developer studio.\", \"score\": 0.98563, \"raw_content\": null}, {\"url\": \"https://www.ibm.com/think/topics/langgraph\", \"title\": \"What is LangGraph? - IBM\", \"content\": \"LangGraph, created by LangChain, is an open source AI agent framework designed to build, deploy and manage complex generative AI agent workflows. At its core, LangGraph uses the power of graph-based architectures to model and manage the intricate relationships between various components of an AI agent workflow. LangGraph illuminates the processes within an AI workflow, allowing full transparency of the agent’s state. By combining these technologies with a set of APIs and tools, LangGraph provides users with a versatile platform for developing AI solutions and workflows including chatbots, state graphs and other agent-based systems. Nodes: In LangGraph, nodes represent individual components or agents within an AI workflow. LangGraph uses enhanced decision-making by modeling complex relationships between nodes, which means it uses AI agents to analyze their past actions and feedback.\", \"score\": 0.98518, \"raw_content\": null}], \"response_time\": 1.62}\n",
      "==================================\u001b[1m Ai Message \u001b[0m==================================\n",
      "\n",
      "以下是一些关于使用 LangGraph 构建自主智能体的资源，可以帮助你深入了解和实现你的目标：\n",
      "\n",
      "1. **[LangGraph - LangChain](https://www.langchain.com/langgraph)**\n",
      "   - LangGraph 是 LangChain 的一部分，专注于设计和部署基于智能体的用户体验。它提供了构建复杂生产级功能的基础，包括对话智能体、任务自动化和自定义 LLM 支持的应用。平台还集成了开发工具，帮助你快速迭代和扩展。\n",
      "\n",
      "2. **[What is LangGraph? - IBM](https://www.ibm.com/think/topics/langgraph)**\n",
      "   - 这篇文章介绍了 LangGraph 作为一个开源 AI 智能体框架，用于构建、部署和管理复杂的生成式 AI 工作流。它利用图结构来建模和管理 AI 智能体工作流中各个组件之间的关系，提供了透明的工作流状态管理。\n",
      "\n",
      "如果你对具体的实现步骤或某个功能有疑问，可以告诉我，我会进一步帮你查找相关资料！\n"
     ]
    }
   ],
   "source": [
    "# The `checkpoint_id` in the `to_replay.config` corresponds to a state we've persisted to our checkpointer.\n",
    "# `to_replay.config` 中的 `checkpoint_id` 对应于我们已保存到检查点工具的某个状态。\n",
    "for event in graph.stream(None, to_replay.config, stream_mode='values'):\n",
    "  if 'messages' in event:\n",
    "    event['messages'][-1].pretty_print()"
   ]
  },
  {
   "cell_type": "markdown",
   "id": "084b0753",
   "metadata": {},
   "source": [
    "图表从 tools 节点继续执行。您可以通过第一个打印的值是搜索引擎工具的响应来判断这一点。\n"
   ]
  }
 ],
 "metadata": {
  "kernelspec": {
   "display_name": ".venv",
   "language": "python",
   "name": "python3"
  },
  "language_info": {
   "codemirror_mode": {
    "name": "ipython",
    "version": 3
   },
   "file_extension": ".py",
   "mimetype": "text/x-python",
   "name": "python",
   "nbconvert_exporter": "python",
   "pygments_lexer": "ipython3",
   "version": "3.12.11"
  }
 },
 "nbformat": 4,
 "nbformat_minor": 5
}
