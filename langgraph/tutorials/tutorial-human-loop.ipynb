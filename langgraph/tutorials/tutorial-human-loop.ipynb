{
  "cells": [
    {
      "cell_type": "markdown",
      "id": "f007212e",
      "metadata": {},
      "source": [
        "# LangGraph use human-in-loop\n"
      ]
    },
    {
      "cell_type": "markdown",
      "id": "8dc95951",
      "metadata": {},
      "source": [
        "## Import Models\n"
      ]
    },
    {
      "cell_type": "markdown",
      "id": "6cda454b",
      "metadata": {},
      "source": [
        "1. 导入相关的库、模块\n"
      ]
    },
    {
      "cell_type": "code",
      "execution_count": 1,
      "id": "fe4bdbcf",
      "metadata": {},
      "outputs": [
        {
          "data": {
            "text/plain": [
              "True"
            ]
          },
          "execution_count": 1,
          "metadata": {},
          "output_type": "execute_result"
        }
      ],
      "source": [
        "from typing import Annotated\n",
        "from typing_extensions import TypedDict\n",
        "\n",
        "from langchain_tavily import TavilySearch\n",
        "from langchain_core.tools import tool\n",
        "from langgraph.checkpoint.memory import InMemorySaver\n",
        "from langgraph.graph import StateGraph, START, END\n",
        "from langgraph.graph.message import add_messages\n",
        "from langgraph.prebuilt import ToolNode, tools_condition\n",
        "from langgraph.types import Command, interrupt\n",
        "from dotenv import load_dotenv\n",
        "\n",
        "load_dotenv()"
      ]
    },
    {
      "cell_type": "markdown",
      "id": "b845fc5f",
      "metadata": {},
      "source": [
        "### 定义 LangGraph 状态图\n"
      ]
    },
    {
      "cell_type": "code",
      "execution_count": 2,
      "id": "2d3b3df3",
      "metadata": {},
      "outputs": [],
      "source": [
        "# from langchain.chat_models import init_chat_model\n",
        "import os\n",
        "from langchain_openai import ChatOpenAI\n",
        "\n",
        "# llm = init_chat_model('deepseek:deepseek-chat')\n",
        "llm = ChatOpenAI(\n",
        "  model='Qwen/Qwen3-30B-A3B-Instruct-2507',\n",
        "  openai_api_key=os.environ['SILICONFLOW_API_KEY'],\n",
        "  openai_api_base='https://api.siliconflow.cn/v1',\n",
        "  streaming=True,\n",
        ")\n",
        "\n",
        "\n",
        "class State(TypedDict):\n",
        "  messages: Annotated[list, add_messages]\n",
        "\n",
        "\n",
        "graph_builder = StateGraph(State)\n",
        "\n",
        "\n",
        "@tool\n",
        "def human_assistance(query: str) -> str:\n",
        "  \"\"\"Request assistance from a human.\"\"\"\n",
        "  human_response = interrupt({'query': query})\n",
        "  return human_response['data']\n",
        "\n",
        "\n",
        "tool = TavilySearch(max_results=2)\n",
        "tools = [tool, human_assistance]\n",
        "llm_with_tools = llm.bind_tools(tools)\n",
        "\n",
        "\n",
        "def chatbot(state: State):\n",
        "  message = llm_with_tools.invoke(state['messages'])\n",
        "  assert len(message.tool_calls) <= 1\n",
        "  return {'messages': [message]}\n",
        "\n",
        "\n",
        "graph_builder.add_node('chatbot', chatbot)\n",
        "\n",
        "tool_node = ToolNode(tools=tools)\n",
        "graph_builder.add_node('tools', tool_node)\n",
        "\n",
        "graph_builder.add_conditional_edges(\n",
        "  'chatbot',\n",
        "  tools_condition,\n",
        ")\n",
        "graph_builder.add_edge('tools', 'chatbot')\n",
        "graph_builder.add_edge(START, 'chatbot')\n",
        "graph_builder.add_edge('chatbot', END)\n",
        "\n",
        "memory = InMemorySaver()\n",
        "graph = graph_builder.compile(checkpointer=memory)"
      ]
    },
    {
      "cell_type": "code",
      "execution_count": 3,
      "id": "6e176953",
      "metadata": {},
      "outputs": [],
      "source": [
        "# from IPython.display import Image, display\n",
        "\n",
        "# display(Image(graph.get_graph().draw_mermaid_png()))"
      ]
    },
    {
      "cell_type": "markdown",
      "id": "b630421e",
      "metadata": {},
      "source": [
        "## Prompt the chatbot\n",
        "\n",
        "### 现在，向聊天机器人提出一个问题，以激活新的 human_assistance 工具\n"
      ]
    },
    {
      "cell_type": "code",
      "execution_count": 4,
      "id": "d0caf4e8",
      "metadata": {},
      "outputs": [
        {
          "name": "stdout",
          "output_type": "stream",
          "text": [
            "================================\u001b[1m Human Message \u001b[0m=================================\n",
            "\n",
            "我需要一些专家指导来构建人工智能代理。你能帮我请求帮助吗？\n",
            "==================================\u001b[1m Ai Message \u001b[0m==================================\n",
            "Tool Calls:\n",
            "  human_assistance (019896dc6a809e9b38421b71dd774db6)\n",
            " Call ID: 019896dc6a809e9b38421b71dd774db6\n",
            "  Args:\n",
            "    query: 关于如何构建人工智能代理的专家指导，包括架构设计、关键技术选择、开发流程和最佳实践等方面的建议。\n"
          ]
        }
      ],
      "source": [
        "user_input = '我需要一些专家指导来构建人工智能代理。你能帮我请求帮助吗？'\n",
        "config = {'configurable': {'thread_id': '1'}}\n",
        "\n",
        "events = graph.stream(\n",
        "  {'messages': [{'role': 'user', 'content': user_input}]},\n",
        "  config,\n",
        "  stream_mode='values',\n",
        ")\n",
        "for event in events:\n",
        "  if 'messages' in event:\n",
        "    event['messages'][-1].pretty_print()"
      ]
    },
    {
      "cell_type": "markdown",
      "id": "edd34c7d",
      "metadata": {},
      "source": [
        "聊天机器人生成了一个工具调用，但随后执行被中断。如果你检查图形状态，会发现它在工具节点处停止：\n"
      ]
    },
    {
      "cell_type": "code",
      "execution_count": 5,
      "id": "726b325e",
      "metadata": {},
      "outputs": [
        {
          "data": {
            "text/plain": [
              "('tools',)"
            ]
          },
          "execution_count": 5,
          "metadata": {},
          "output_type": "execute_result"
        }
      ],
      "source": [
        "snapshot = graph.get_state(config)\n",
        "snapshot.next"
      ]
    },
    {
      "cell_type": "markdown",
      "id": "e2545c11",
      "metadata": {},
      "source": [
        "## Resume execution\n",
        "\n",
        "要继续执行，请传递一个包含工具所需数据的 Command 对象。该数据的格式可根据实际需求进行自定义。\n",
        "\n",
        "对于这个示例，使用一个键为 \"data\" 的字典：\n"
      ]
    },
    {
      "cell_type": "code",
      "execution_count": 6,
      "id": "ddd3fd16",
      "metadata": {},
      "outputs": [
        {
          "name": "stdout",
          "output_type": "stream",
          "text": [
            "==================================\u001b[1m Ai Message \u001b[0m==================================\n",
            "Tool Calls:\n",
            "  human_assistance (019896dc6a809e9b38421b71dd774db6)\n",
            " Call ID: 019896dc6a809e9b38421b71dd774db6\n",
            "  Args:\n",
            "    query: 关于如何构建人工智能代理的专家指导，包括架构设计、关键技术选择、开发流程和最佳实践等方面的建议。\n",
            "=================================\u001b[1m Tool Message \u001b[0m=================================\n",
            "Name: human_assistance\n",
            "\n",
            "我们，专家在这里提供帮助！我们建议您查看LangGraph以构建您的代理。它比简单的自主代理更可靠、更可扩展。\n",
            "==================================\u001b[1m Ai Message \u001b[0m==================================\n",
            "\n",
            "非常感谢专家的指导！根据您提供的建议，我将为您简要介绍如何使用 **LangGraph** 构建可靠且可扩展的人工智能代理。\n",
            "\n",
            "---\n",
            "\n",
            "### 🚀 为什么选择 LangGraph？\n",
            "LangGraph 是一个基于图结构的框架，专为构建复杂的、可协作的 AI 代理而设计。与简单的“自主代理”相比，LangGraph 的优势包括：\n",
            "\n",
            "- ✅ **可扩展性**：支持多步骤推理、循环决策和动态流程。\n",
            "- ✅ **可解释性**：通过可视化图结构清晰展示代理的决策路径。\n",
            "- ✅ **灵活性**：可轻松集成多个 LLM、工具、记忆系统和条件逻辑。\n",
            "- ✅ **可靠性**：避免无限循环和逻辑错误，支持超时、错误处理和恢复机制。\n",
            "\n",
            "---\n",
            "\n",
            "### 🔧 构建 AI 代理的关键步骤（基于 LangGraph）\n",
            "\n",
            "#### 1. **明确代理的目标与角色**\n",
            "   - 例如：你想要一个“项目管理助手”代理，能制定计划、分配任务、监控进度。\n",
            "   - 定义其核心能力：任务分解、时间估算、提醒、与人沟通等。\n",
            "\n",
            "#### 2. **设计代理的图结构**\n",
            "   使用 LangGraph 构建一个有向图（DAG 或循环图），定义节点和边：\n",
            "   - **节点（Nodes）**：每个节点代表一个决策或操作，如：\n",
            "     - `planning_node`：生成任务列表\n",
            "     - `execution_node`：执行任务或调用工具\n",
            "     - `review_node`：检查结果并决定是否继续\n",
            "   - **边（Edges）**：定义流程控制逻辑，如条件跳转：\n",
            "     ```python\n",
            "     if task_completed:\n",
            "         goto \"review_node\"\n",
            "     else:\n",
            "         goto \"retry_node\"\n",
            "     ```\n",
            "\n",
            "#### 3. **集成 LLM 与工具**\n",
            "   - 使用 LLM 作为“大脑”来推理和决策。\n",
            "   - 集成工具（tools）实现具体功能：\n",
            "     - 调用日历 API 创建提醒\n",
            "     - 生成邮件内容\n",
            "     - 查询知识库\n",
            "   - LangGraph 支持动态地将工具注入图中。\n",
            "\n",
            "#### 4. **添加记忆与状态管理**\n",
            "   - 使用 `StateGraph` 管理代理的上下文状态：\n",
            "     ```python\n",
            "     class AgentState(TypedDict):\n",
            "         tasks: List[str]\n",
            "         completed_tasks: List[str]\n",
            "         current_step: str\n",
            "         memory: str\n",
            "     ```\n",
            "   - 让代理能够记住历史、避免重复工作。\n",
            "\n",
            "#### 5. **添加错误处理与恢复机制**\n",
            "   - 设置最大尝试次数、超时、重试逻辑。\n",
            "   - 当 LLM 生成无效输出时，可触发备用路径。\n",
            "\n",
            "#### 6. **测试与迭代**\n",
            "   - 用真实场景测试代理的行为。\n",
            "   - 使用日志和可视化工具分析图的执行路径。\n",
            "   - 根据反馈优化节点逻辑和提示词。\n",
            "\n",
            "---\n",
            "\n",
            "### 📚 学习资源推荐\n",
            "- 官方文档：https://langchain-ai.github.io/langgraph/\n",
            "- GitHub 仓库：https://github.com/langchain-ai/langgraph\n",
            "- 示例项目：`langgraph/examples/` 中包含多种代理模板（如客户支持、代码生成、任务管理）。\n",
            "\n",
            "---\n",
            "\n",
            "### ✅ 总结\n",
            "不要从“单步自动执行”的代理开始，而是以 **LangGraph** 为基础，构建一个 **多阶段、可控制、有记忆的智能体系统**。这将显著提升你的 AI 代理的稳定性、灵活性和实用性。\n",
            "\n",
            "如果您需要，我可以为您生成一个基于 LangGraph 的“任务管理助理”代理的完整代码模板。是否需要？\n"
          ]
        }
      ],
      "source": [
        "human_response = '我们，专家在这里提供帮助！我们建议您查看LangGraph以构建您的代理。它比简单的自主代理更可靠、更可扩展。'\n",
        "\n",
        "human_command = Command(resume={'data': human_response})\n",
        "\n",
        "events = graph.stream(human_command, config, stream_mode='values')\n",
        "for event in events:\n",
        "  if 'messages' in event:\n",
        "    event['messages'][-1].pretty_print()"
      ]
    },
    {
      "cell_type": "markdown",
      "id": "c77cb59e",
      "metadata": {},
      "source": [
        "输入已接收并作为工具消息处理。请查看此调用的 LangSmith 跟踪记录，以查看上述调用中执行的具体操作。请注意，在第一步中已加载状态，以便我们的聊天机器人能够从上次中断处继续。\n",
        "\n",
        "恭喜！您已使用 interrupt 为聊天机器人添加了“人类在循环中”执行功能，这使得在必要时可实现人类监督与干预。此功能为您的 AI 系统开辟了更多可能的用户界面设计空间。由于您已添加了检查点，只要底层持久化层仍在运行，图形可被无限暂停，并在任何时间点恢复执行，且恢复后系统状态与暂停前完全一致。\n"
      ]
    }
  ],
  "metadata": {
    "kernelspec": {
      "display_name": "learn-ai (3.12.11)",
      "language": "python",
      "name": "python3"
    },
    "language_info": {
      "codemirror_mode": {
        "name": "ipython",
        "version": 3
      },
      "file_extension": ".py",
      "mimetype": "text/x-python",
      "name": "python",
      "nbconvert_exporter": "python",
      "pygments_lexer": "ipython3",
      "version": "3.12.11"
    }
  },
  "nbformat": 4,
  "nbformat_minor": 5
}
