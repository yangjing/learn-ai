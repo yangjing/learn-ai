{
 "cells": [
  {
   "cell_type": "markdown",
   "metadata": {},
   "source": [
    "## <small>\n",
    "\n",
    "Copyright (c) 2017-21 Andrew Glassner\n",
    "\n",
    "Permission is hereby granted, free of charge, to any person obtaining a copy of this software and associated documentation files (the \"Software\"), to deal in the Software without restriction, including without limitation the rights to use, copy, modify, merge, publish, distribute, sublicense, and/or sell copies of the Software, and to permit persons to whom the Software is furnished to do so, subject to the following conditions:\n",
    "\n",
    "The above copyright notice and this permission notice shall be included in all copies or substantial portions of the Software.\n",
    "\n",
    "THE SOFTWARE IS PROVIDED \"AS IS\", WITHOUT WARRANTY OF ANY KIND, EXPRESS OR IMPLIED, INCLUDING BUT NOT LIMITED TO THE WARRANTIES OF MERCHANTABILITY, FITNESS FOR A PARTICULAR PURPOSE AND NONINFRINGEMENT. IN NO EVENT SHALL THE AUTHORS OR COPYRIGHT HOLDERS BE LIABLE FOR ANY CLAIM, DAMAGES OR OTHER LIABILITY, WHETHER IN AN ACTION OF CONTRACT, TORT OR OTHERWISE, ARISING FROM, OUT OF OR IN CONNECTION WITH THE SOFTWARE OR THE USE OR OTHER DEALINGS IN THE SOFTWARE.\n",
    "</small>\n",
    "\n",
    "# Deep Learning: A Visual Approach\n",
    "\n",
    "## by Andrew Glassner, https://glassner.com\n",
    "\n",
    "### Order: https://nostarch.com/deep-learning-visual-approach\n",
    "\n",
    "### GitHub: https://github.com/blueberrymusic\n",
    "\n",
    "---\n",
    "\n",
    "### What's in this notebook\n",
    "\n",
    "This notebook is provided as a “behind-the-scenes” look at code used to make some of the figures in this chapter. It is cleaned up a bit from the original code that I hacked together, and is only lightly commented. I wrote the code to be easy to interpret and understand, even for those who are new to Python. I tried never to be clever or even more efficient at the cost of being harder to understand. The code is in Python3, using the versions of libraries as of April 2021.\n",
    "\n",
    "This notebook may contain additional code to create models and images not in the book. That material is included here to demonstrate additional techniques.\n",
    "\n",
    "Note that I've included the output cells in this saved notebook, but Jupyter doesn't save the variables or data that were used to generate them. To recreate any cell's output, evaluate all the cells from the start up to that cell. A convenient way to experiment is to first choose \"Restart & Run All\" from the Kernel menu, so that everything's been defined and is up to date. Then you can experiment using the variables, data, functions, and other stuff defined in this notebook.\n"
   ]
  },
  {
   "cell_type": "markdown",
   "metadata": {},
   "source": [
    "## Chapter 16: CNNs - Notebook 1\n"
   ]
  },
  {
   "cell_type": "code",
   "execution_count": 1,
   "metadata": {},
   "outputs": [],
   "source": [
    "import numpy as np\n",
    "import matplotlib.pyplot as plt"
   ]
  },
  {
   "cell_type": "code",
   "execution_count": 2,
   "metadata": {},
   "outputs": [],
   "source": [
    "# Make a File_Helper for saving and loading files.\n",
    "\n",
    "save_files = False\n",
    "\n",
    "import os, sys, inspect\n",
    "\n",
    "# current_dir = os.path.dirname(os.path.abspath(inspect.getfile(inspect.currentframe())))\n",
    "# sys.path.insert(0, os.path.dirname(current_dir))  # path to parent dir\n",
    "sys.path.append(\"../\")\n",
    "from DLBasics_Utilities import File_Helper\n",
    "\n",
    "file_helper = File_Helper(save_files)"
   ]
  },
  {
   "cell_type": "code",
   "execution_count": 3,
   "metadata": {},
   "outputs": [],
   "source": [
    "# Make a random image\n",
    "\n",
    "np.random.seed(42)\n",
    "img_size = 20\n",
    "img = np.random.uniform(size=(img_size, img_size))\n",
    "img = np.where(img > 0.5, 0, 1)"
   ]
  },
  {
   "cell_type": "code",
   "execution_count": 4,
   "metadata": {},
   "outputs": [],
   "source": [
    "# Apply an element to the current image img\n",
    "\n",
    "\n",
    "def get_results(element):\n",
    "  result = np.zeros((img_size, img_size))\n",
    "  binary_result = np.zeros((img_size, img_size))\n",
    "  for y in range(1, img_size - 1):\n",
    "    for x in range(1, img_size - 1):\n",
    "      sum = 0\n",
    "      for ey in range(3):\n",
    "        for ex in range(3):\n",
    "          sum += img[y + ey - 1][x + ex - 1] * element[ey][ex]\n",
    "      result[y][x] = sum\n",
    "      binary_result[y][x] = sum == 3\n",
    "  return (result, binary_result)"
   ]
  },
  {
   "cell_type": "code",
   "execution_count": 5,
   "metadata": {},
   "outputs": [],
   "source": [
    "# Show the five pictures for applying an element to an image\n",
    "\n",
    "\n",
    "def show_five(img, element, result, binary_result, filename):\n",
    "  plt.subplot(1, 5, 1)\n",
    "  plt.imshow(element, interpolation=\"nearest\", vmin=-1, vmax=1, cmap=\"autumn\")\n",
    "  plt.plot([0.5, 0.5], [-0.5, 2.5], color=\"black\")\n",
    "  plt.plot([1.5, 1.5], [-0.5, 2.5], color=\"black\")\n",
    "  plt.plot([-0.5, 2.5], [0.49, 0.49], color=\"black\")\n",
    "  plt.plot([-0.5, 2.5], [1.5, 1.5], color=\"black\")\n",
    "  plt.xticks([], [])\n",
    "  plt.yticks([], [])\n",
    "  plt.title(\"(a)\")\n",
    "  plt.subplot(1, 5, 2)\n",
    "  plt.imshow(img, interpolation=\"nearest\", cmap=\"gray\")\n",
    "  plt.xticks([], [])\n",
    "  plt.yticks([], [])\n",
    "  plt.title(\"(b)\")\n",
    "  plt.subplot(1, 5, 3)\n",
    "  plt.imshow(result, interpolation=\"nearest\", vmin=-6, vmax=3, cmap=\"cool\")\n",
    "  plt.xticks([], [])\n",
    "  plt.yticks([], [])\n",
    "  plt.title(\"(c)\")\n",
    "  plt.subplot(1, 5, 4)\n",
    "  plt.imshow(binary_result, interpolation=\"nearest\", cmap=\"gray\")\n",
    "  plt.xticks([], [])\n",
    "  plt.yticks([], [])\n",
    "  plt.title(\"(d)\")\n",
    "  plt.subplot(1, 5, 5)\n",
    "  mask_result = np.zeros(img.shape)\n",
    "  for y in range(0, img_size):\n",
    "    for x in range(0, img_size):\n",
    "      mask_result[y][x] = 0.45 + (0.1 * img[y][x])\n",
    "  for y in range(0, img_size):\n",
    "    for x in range(0, img_size):\n",
    "      for ty in range(-1, 2):\n",
    "        for tx in range(-1, 2):\n",
    "          if (y + ty >= 0) and (y + ty < img_size) and (x + tx >= 0) and (x + tx < img_size):\n",
    "            if binary_result[y + ty][x + tx] > 0.5:\n",
    "              mask_result[y][x] = img[y][x]\n",
    "  plt.imshow(mask_result, interpolation=\"nearest\", cmap=\"gray\")\n",
    "\n",
    "  plt.xticks([], [])\n",
    "  plt.yticks([], [])\n",
    "  plt.title(\"(e)\")\n",
    "  plt.tight_layout()\n",
    "  file_helper.save_figure(filename)\n",
    "  plt.show()"
   ]
  },
  {
   "cell_type": "code",
   "execution_count": 6,
   "metadata": {},
   "outputs": [
    {
     "data": {
      "image/png": "[encoded data removed]",
      "text/plain": [
       "<Figure size 640x480 with 5 Axes>"
      ]
     },
     "metadata": {},
     "output_type": "display_data"
    }
   ],
   "source": [
    "# Find a vertical white stripe up the center\n",
    "\n",
    "element1 = [[-1, 1, -1], [-1, 1, -1], [-1, 1, -1]]\n",
    "(result, binary_result) = get_results(element1)\n",
    "show_five(img, element1, result, binary_result, \"element1\")"
   ]
  },
  {
   "cell_type": "code",
   "execution_count": 7,
   "metadata": {},
   "outputs": [
    {
     "data": {
      "image/png": "[encoded data removed]",
      "text/plain": [
       "<Figure size 640x480 with 5 Axes>"
      ]
     },
     "metadata": {},
     "output_type": "display_data"
    }
   ],
   "source": [
    "# Find a diagonal white stripe from NW to SE\n",
    "\n",
    "element2 = [[1, -1, -1], [-1, 1, -1], [-1, -1, 1]]\n",
    "(result, binary_result) = get_results(element2)\n",
    "show_five(img, element2, result, binary_result, \"element2\")"
   ]
  }
 ],
 "metadata": {
  "kernelspec": {
   "display_name": "learn-ai",
   "language": "python",
   "name": "python3"
  },
  "language_info": {
   "codemirror_mode": {
    "name": "ipython",
    "version": 3
   },
   "file_extension": ".py",
   "mimetype": "text/x-python",
   "name": "python",
   "nbconvert_exporter": "python",
   "pygments_lexer": "ipython3",
   "version": "3.12.7"
  }
 },
 "nbformat": 4,
 "nbformat_minor": 1
}
