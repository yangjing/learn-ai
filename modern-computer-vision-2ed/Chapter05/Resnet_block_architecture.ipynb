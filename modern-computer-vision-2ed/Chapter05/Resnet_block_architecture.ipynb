{
  "cells": [
    {
      "cell_type": "markdown",
      "metadata": {
        "colab_type": "text",
        "id": "view-in-github"
      },
      "source": [
        "<a href=\"https://colab.research.google.com/github/PacktPublishing/Modern-Computer-Vision-with-PyTorch-2E/blob/main/Chapter05/Resnet_block_architecture.ipynb\" target=\"_parent\"><img src=\"https://colab.research.google.com/assets/colab-badge.svg\" alt=\"Open In Colab\"/></a>\n"
      ]
    },
    {
      "cell_type": "code",
      "execution_count": 1,
      "metadata": {
        "id": "cuS9OIFRPtEW"
      },
      "outputs": [],
      "source": [
        "%matplotlib inline\n",
        "from pathlib import Path\n",
        "import numpy as np\n",
        "import cv2\n",
        "from glob import glob\n",
        "import matplotlib.pyplot as plt\n",
        "import matplotlib.ticker as mticker\n",
        "import torch\n",
        "import torch.nn as nn\n",
        "from torchvision import transforms, models\n",
        "from torch.utils.data import DataLoader, Dataset\n",
        "\n",
        "device = \"cuda\" if torch.cuda.is_available() else \"cpu\"\n",
        "DATA_DIR = Path.home() / \"data\""
      ]
    },
    {
      "cell_type": "code",
      "execution_count": null,
      "metadata": {
        "id": "S339gpWBP06u"
      },
      "outputs": [],
      "source": [
        "class ResLayer(nn.Module):\n",
        "     def __init__(self,ni,no,kernel_size,stride=1):\n",
        "        super(ResLayer, self).__init__()\n",
        "        padding = kernel_size - 2\n",
        "        self.conv = nn.Sequential(\n",
        "            nn.Conv2d(ni, no, kernel_size, stride,\n",
        "                      padding=padding),\n",
        "            nn.ReLU()\n",
        "        )\n",
        "\n",
        "    def forward(self, x):\n",
        "        return self.conv(x) + x\n",
        "\n"
      ]
    }
  ],
  "metadata": {
    "accelerator": "GPU",
    "colab": {
      "authorship_tag": "ABX9TyOTLHszFiFWrGkTp/f0kcnn",
      "include_colab_link": true,
      "name": "Resnet_block_architecture.ipynb",
      "provenance": []
    },
    "kernelspec": {
      "display_name": "Python 3",
      "name": "python3"
    }
  },
  "nbformat": 4,
  "nbformat_minor": 0
}
