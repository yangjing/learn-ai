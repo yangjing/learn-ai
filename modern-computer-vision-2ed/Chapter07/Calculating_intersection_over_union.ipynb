{
  "cells": [
    {
      "cell_type": "markdown",
      "metadata": {
        "colab_type": "text",
        "id": "view-in-github"
      },
      "source": [
        "<a href=\"https://colab.research.google.com/github/PacktPublishing/Modern-Computer-Vision-with-PyTorch-2E/blob/main/Chapter07/Calculating_intersection_over_union.ipynb\" target=\"_parent\"><img src=\"https://colab.research.google.com/assets/colab-badge.svg\" alt=\"Open In Colab\"/></a>\n"
      ]
    },
    {
      "cell_type": "code",
      "execution_count": null,
      "metadata": {
        "id": "VaLHNIS5vFr8"
      },
      "outputs": [],
      "source": [
        "def get_iou(boxA, boxB, epsilon=1e-5):\n",
        "  \"\"\"\n",
        "  计算两个框的交并比（Intersection over Union, IoU）。\n",
        "\n",
        "  参数:\n",
        "  - boxA: 第一个框，格式为[x1, y1, x2, y2]，其中(x1, y1)是框的左上角坐标，(x2, y2)是框的右下角坐标。\n",
        "  - boxB: 第二个框，格式同boxA。\n",
        "  - epsilon: 防止分母为零的小常数，默认值为1e-5。\n",
        "\n",
        "  返回值:\n",
        "  - 交并比的值，范围在0到1之间。表示两个框重叠程度的比率。\n",
        "  \"\"\"\n",
        "  # 计算两个框的交集区域的左上角和右下角坐标\n",
        "  x1 = max(boxA[0], boxB[0])\n",
        "  y1 = max(boxA[1], boxB[1])\n",
        "  x2 = min(boxA[2], boxB[2])\n",
        "  y2 = min(boxA[3], boxB[3])\n",
        "\n",
        "  # 计算交集区域的宽度和高度\n",
        "  width = x2 - x1\n",
        "  height = y2 - y1\n",
        "\n",
        "  # 如果交集区域的宽度或高度为负数，则表示两个框不相交，返回0.0\n",
        "  if (width < 0) or (height < 0):\n",
        "    return 0.0\n",
        "\n",
        "  # 计算交集区域的面积\n",
        "  area_overlap = width * height\n",
        "\n",
        "  # 计算两个框各自的面积\n",
        "  area_a = (boxA[2] - boxA[0]) * (boxA[3] - boxA[1])\n",
        "  area_b = (boxB[2] - boxB[0]) * (boxB[3] - boxB[1])\n",
        "\n",
        "  # 计算两个框的并集面积\n",
        "  area_combined = area_a + area_b - area_overlap\n",
        "\n",
        "  # 计算交并比并返回\n",
        "  iou = area_overlap / (area_combined + epsilon)\n",
        "  return iou"
      ]
    }
  ],
  "metadata": {
    "colab": {
      "include_colab_link": true,
      "name": "Calculating_intersection_over_union.ipynb",
      "provenance": []
    },
    "kernelspec": {
      "display_name": "Python 3",
      "name": "python3"
    }
  },
  "nbformat": 4,
  "nbformat_minor": 0
}
