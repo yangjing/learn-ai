{
  "cells": [
    {
      "cell_type": "markdown",
      "metadata": {
        "colab_type": "text",
        "id": "view-in-github"
      },
      "source": [
        "<a href=\"https://colab.research.google.com/github/PacktPublishing/Modern-Computer-Vision-with-PyTorch-2E/blob/main/Chapter04/Visualizing_the_filters'_learning.ipynb\" target=\"_parent\"><img src=\"https://colab.research.google.com/assets/colab-badge.svg\" alt=\"Open In Colab\"/></a>\n"
      ]
    },
    {
      "cell_type": "code",
      "execution_count": 3,
      "metadata": {
        "colab": {
          "base_uri": "https://localhost:8080/",
          "height": 1000
        },
        "id": "MWuskXkZJMoI",
        "outputId": "f7f434b2-3347-4984-ab5d-bd379201ad8e"
      },
      "outputs": [
        {
          "name": "stdout",
          "output_type": "stream",
          "text": [
            "mkdir: _data: File exists\n",
            "--2025-01-07 10:20:49--  https://www.dropbox.com/s/5jh4hpuk2gcxaaq/all.zip\n",
            "正在解析主机 www.dropbox.com (www.dropbox.com)... 2a03:2880:f12c:183:face:b00c:0:25de, 209.95.56.60\n",
            "正在连接 www.dropbox.com (www.dropbox.com)|2a03:2880:f12c:183:face:b00c:0:25de|:443... ^C\n",
            "unzip:  cannot find or open all.zip, all.zip.zip or all.zip.ZIP.\n"
          ]
        }
      ],
      "source": [
        "# !mkdir _data\n",
        "# !cd _data\n",
        "# !wget https://www.dropbox.com/s/5jh4hpuk2gcxaaq/all.zip\n",
        "# !unzip all.zip"
      ]
    },
    {
      "cell_type": "code",
      "execution_count": null,
      "metadata": {
        "id": "Y4of-LZiJPvl"
      },
      "outputs": [],
      "source": [
        "import torch\n",
        "from torch import nn\n",
        "from torch.utils.data import TensorDataset, Dataset, DataLoader\n",
        "from torch.optim import SGD, Adam\n",
        "\n",
        "device = \"cuda\" if torch.cuda.is_available() else \"cpu\"\n",
        "from torchvision import datasets\n",
        "import numpy as np, cv2\n",
        "import matplotlib.pyplot as plt\n",
        "from glob import glob\n",
        "\n",
        "%matplotlib inline\n",
        "from imgaug import augmenters as iaa"
      ]
    },
    {
      "cell_type": "code",
      "execution_count": null,
      "metadata": {
        "id": "0oBUvqViJRXH"
      },
      "outputs": [],
      "source": [
        "tfm = iaa.Sequential(iaa.Resize(28))\n",
        "\n",
        "\n",
        "class XO(Dataset):\n",
        "    def __init__(self, folder):\n",
        "        self.files = glob(folder)\n",
        "\n",
        "    def __len__(self):\n",
        "        return len(self.files)\n",
        "\n",
        "    def __getitem__(self, ix):\n",
        "        f = self.files[ix]\n",
        "        im = tfm.augment_image(cv2.imread(f)[:, :, 0])\n",
        "        im = im[None]\n",
        "        cl = f.split(\"/\")[-1].split(\"@\")[0] == \"x\"\n",
        "        return torch.tensor(1 - im / 255).to(device).float(), torch.tensor(\n",
        "            [cl]\n",
        "        ).float().to(device)"
      ]
    },
    {
      "cell_type": "code",
      "execution_count": null,
      "metadata": {
        "id": "tMIe6OM1JUf0"
      },
      "outputs": [],
      "source": [
        "data = XO(\"/content/all/*\")"
      ]
    },
    {
      "cell_type": "code",
      "execution_count": null,
      "metadata": {
        "colab": {
          "base_uri": "https://localhost:8080/",
          "height": 1000
        },
        "id": "HnUgswHDJWL3",
        "outputId": "c03ac312-9cff-4f49-eb9a-d53dc63690c0"
      },
      "outputs": [],
      "source": [
        "R, C = 7, 7\n",
        "fig, ax = plt.subplots(R, C, figsize=(5, 5))\n",
        "for label_class, plot_row in enumerate(ax):\n",
        "    for plot_cell in plot_row:\n",
        "        plot_cell.grid(False)\n",
        "        plot_cell.axis(\"off\")\n",
        "        ix = np.random.choice(1000)\n",
        "        im, label = data[ix]\n",
        "        print()\n",
        "        plot_cell.imshow(im[0].cpu(), cmap=\"gray\")\n",
        "plt.tight_layout()"
      ]
    },
    {
      "cell_type": "code",
      "execution_count": null,
      "metadata": {
        "id": "gfo--27SJdlw"
      },
      "outputs": [],
      "source": [
        "from torch.optim import SGD, Adam\n",
        "\n",
        "\n",
        "def get_model():\n",
        "    model = nn.Sequential(\n",
        "        nn.Conv2d(1, 64, kernel_size=3),\n",
        "        nn.MaxPool2d(2),\n",
        "        nn.ReLU(),\n",
        "        nn.Conv2d(64, 128, kernel_size=3),\n",
        "        nn.MaxPool2d(2),\n",
        "        nn.ReLU(),\n",
        "        nn.Flatten(),\n",
        "        nn.Linear(3200, 256),\n",
        "        nn.ReLU(),\n",
        "        nn.Linear(256, 1),\n",
        "        nn.Sigmoid(),\n",
        "    ).to(device)\n",
        "\n",
        "    loss_fn = nn.BCELoss()\n",
        "    optimizer = Adam(model.parameters(), lr=1e-3)\n",
        "    return model, loss_fn, optimizer"
      ]
    },
    {
      "cell_type": "code",
      "execution_count": null,
      "metadata": {
        "id": "GGmchsA2JzD8"
      },
      "outputs": [],
      "source": [
        "def train_batch(x, y, model, opt, loss_fn):\n",
        "    prediction = model(x)\n",
        "    batch_loss = loss_fn(prediction, y)\n",
        "    batch_loss.backward()\n",
        "    optimizer.step()\n",
        "    optimizer.zero_grad()\n",
        "    return batch_loss.item()\n",
        "\n",
        "\n",
        "def accuracy(x, y, model):\n",
        "    with torch.no_grad():\n",
        "        prediction = model(x)\n",
        "    max_values, argmaxes = prediction.max(-1)\n",
        "    is_correct = argmaxes == y\n",
        "    return is_correct.cpu().numpy().tolist()"
      ]
    },
    {
      "cell_type": "code",
      "execution_count": null,
      "metadata": {
        "id": "MagAu4xIJ6L1"
      },
      "outputs": [],
      "source": [
        "trn_dl = DataLoader(XO(\"/content/all/*\"), batch_size=32, drop_last=True)"
      ]
    },
    {
      "cell_type": "code",
      "execution_count": null,
      "metadata": {
        "id": "18oRl5QmJ_Qw"
      },
      "outputs": [],
      "source": [
        "def val_loss(x, y, model):\n",
        "    with torch.no_grad():\n",
        "        prediction = model(x)\n",
        "    val_loss = loss_fn(prediction, y)\n",
        "    return val_loss.item()"
      ]
    },
    {
      "cell_type": "code",
      "execution_count": null,
      "metadata": {
        "id": "aGqNMWF1KAhM"
      },
      "outputs": [],
      "source": [
        "model, loss_fn, optimizer = get_model()"
      ]
    },
    {
      "cell_type": "code",
      "execution_count": null,
      "metadata": {
        "colab": {
          "base_uri": "https://localhost:8080/",
          "height": 425
        },
        "id": "O4_HzP0VLa_T",
        "outputId": "a714f9dd-d311-4062-f6e0-c65d0b9c1664"
      },
      "outputs": [],
      "source": [
        "from torchsummary import summary\n",
        "\n",
        "model, loss_fn, optimizer = get_model()\n",
        "summary(model, input_size=(1, 28, 28))"
      ]
    },
    {
      "cell_type": "code",
      "execution_count": null,
      "metadata": {
        "id": "HYFzEyakKCiY"
      },
      "outputs": [],
      "source": [
        "for epoch in range(5):\n",
        "    for ix, batch in enumerate(iter(trn_dl)):\n",
        "        x, y = batch\n",
        "        batch_loss = train_batch(x, y, model, optimizer, loss_fn)"
      ]
    },
    {
      "cell_type": "code",
      "execution_count": null,
      "metadata": {
        "id": "8piBZo5_KgFc"
      },
      "outputs": [],
      "source": []
    },
    {
      "cell_type": "code",
      "execution_count": null,
      "metadata": {
        "colab": {
          "base_uri": "https://localhost:8080/",
          "height": 34
        },
        "id": "O8m5e3b5Kyi0",
        "outputId": "f3524fb4-0167-4b39-b62f-fd20f160a20f"
      },
      "outputs": [],
      "source": []
    },
    {
      "cell_type": "code",
      "execution_count": null,
      "metadata": {
        "colab": {
          "base_uri": "https://localhost:8080/",
          "height": 265
        },
        "id": "Pus2BBhGKyll",
        "outputId": "773f4dea-f0a4-4bdc-d647-c5b653d621a5"
      },
      "outputs": [],
      "source": [
        "im, c = trn_dl.dataset[2]\n",
        "plt.imshow(im[0].cpu())\n",
        "plt.show()"
      ]
    },
    {
      "cell_type": "code",
      "execution_count": null,
      "metadata": {
        "id": "xwBkTLGRKzJ4"
      },
      "outputs": [],
      "source": [
        "first_layer = nn.Sequential(*list(model.children())[:1])\n",
        "intermediate_output = first_layer(im[None])[0].detach()"
      ]
    },
    {
      "cell_type": "code",
      "execution_count": null,
      "metadata": {
        "colab": {
          "base_uri": "https://localhost:8080/",
          "height": 729
        },
        "id": "mKz3Cg6pK2fS",
        "outputId": "b55347f2-540c-4729-ff40-76b18ccf2e7f"
      },
      "outputs": [],
      "source": [
        "n = 8\n",
        "fig, ax = plt.subplots(n, n, figsize=(10, 10))\n",
        "for ix, axis in enumerate(ax.flat):\n",
        "    axis.set_title(\"Filter: \" + str(ix))\n",
        "    axis.imshow(intermediate_output[ix].cpu())\n",
        "plt.tight_layout()\n",
        "plt.show()"
      ]
    },
    {
      "cell_type": "code",
      "execution_count": null,
      "metadata": {
        "colab": {
          "base_uri": "https://localhost:8080/",
          "height": 204
        },
        "id": "KOEx2-HJK75W",
        "outputId": "b43a664d-0fd4-4b0a-ed69-2a495eed7fdf"
      },
      "outputs": [],
      "source": [
        "list(model.children())"
      ]
    },
    {
      "cell_type": "code",
      "execution_count": null,
      "metadata": {
        "id": "u4XmH9-RLlLP"
      },
      "outputs": [],
      "source": [
        "second_layer = nn.Sequential(*list(model.children())[:4])\n",
        "second_intermediate_output = second_layer(im[None])[0].detach()"
      ]
    },
    {
      "cell_type": "code",
      "execution_count": null,
      "metadata": {
        "colab": {
          "base_uri": "https://localhost:8080/",
          "height": 34
        },
        "id": "Oza2FGXhLzK9",
        "outputId": "79fc1dac-f1bb-4a2a-d581-16f89ffa1a4a"
      },
      "outputs": [],
      "source": [
        "second_intermediate_output.shape"
      ]
    },
    {
      "cell_type": "code",
      "execution_count": null,
      "metadata": {
        "colab": {
          "base_uri": "https://localhost:8080/",
          "height": 729
        },
        "id": "lbfZ6iGZL3zS",
        "outputId": "b0d2b719-d9e7-4a08-a8a1-7b18db26bb47"
      },
      "outputs": [],
      "source": [
        "n = 11\n",
        "fig, ax = plt.subplots(n, n, figsize=(10, 10))\n",
        "for ix, axis in enumerate(ax.flat):\n",
        "    axis.imshow(second_intermediate_output[ix].cpu())\n",
        "    axis.set_title(str(ix))\n",
        "plt.tight_layout()\n",
        "plt.show()"
      ]
    },
    {
      "cell_type": "code",
      "execution_count": null,
      "metadata": {
        "colab": {
          "base_uri": "https://localhost:8080/",
          "height": 34
        },
        "id": "spv-ErHaI6iY",
        "outputId": "45de46c3-247c-44a3-d0cb-d9e37c87b8c0"
      },
      "outputs": [],
      "source": [
        "im.shape"
      ]
    },
    {
      "cell_type": "code",
      "execution_count": null,
      "metadata": {
        "colab": {
          "base_uri": "https://localhost:8080/",
          "height": 34
        },
        "id": "_owOq7hfKkLU",
        "outputId": "7d7868c0-97fb-44b5-b532-0c58644c2c9f"
      },
      "outputs": [],
      "source": [
        "x, y = next(iter(trn_dl))\n",
        "x2 = x[y == 0]\n",
        "len(x2)"
      ]
    },
    {
      "cell_type": "code",
      "execution_count": null,
      "metadata": {
        "id": "zTLe2iCqK0s-"
      },
      "outputs": [],
      "source": [
        "x2 = x2.view(-1, 1, 28, 28)"
      ]
    },
    {
      "cell_type": "code",
      "execution_count": null,
      "metadata": {
        "id": "x9FCJa8DMSRN"
      },
      "outputs": [],
      "source": [
        "first_layer = nn.Sequential(*list(model.children())[:1])\n",
        "first_layer_output = first_layer(x2).detach()"
      ]
    },
    {
      "cell_type": "code",
      "execution_count": null,
      "metadata": {
        "colab": {
          "base_uri": "https://localhost:8080/",
          "height": 822
        },
        "id": "IuzDJgP2MA7n",
        "outputId": "84ad4b4c-4f77-48eb-91cd-fe538bb227cb"
      },
      "outputs": [],
      "source": [
        "n = 4\n",
        "fig, ax = plt.subplots(n, n, figsize=(10, 10))\n",
        "for ix, axis in enumerate(ax.flat):\n",
        "    axis.imshow(first_layer_output[ix, 4, :, :].cpu())\n",
        "    axis.set_title(str(ix))\n",
        "plt.tight_layout()\n",
        "plt.show()"
      ]
    },
    {
      "cell_type": "code",
      "execution_count": null,
      "metadata": {
        "id": "xuugmbJSMA-s"
      },
      "outputs": [],
      "source": []
    },
    {
      "cell_type": "code",
      "execution_count": null,
      "metadata": {
        "id": "SleQ2AR6I6gW"
      },
      "outputs": [],
      "source": [
        "second_layer = nn.Sequential(*list(model.children())[:4])\n",
        "second_intermediate_output = second_layer(x2).detach()"
      ]
    },
    {
      "cell_type": "code",
      "execution_count": null,
      "metadata": {
        "colab": {
          "base_uri": "https://localhost:8080/",
          "height": 34
        },
        "id": "FI1f3v6uJZHx",
        "outputId": "0ef5a8c3-50fd-4f42-cc1a-152c8f3f876b"
      },
      "outputs": [],
      "source": [
        "second_intermediate_output.shape"
      ]
    },
    {
      "cell_type": "code",
      "execution_count": null,
      "metadata": {
        "colab": {
          "base_uri": "https://localhost:8080/",
          "height": 822
        },
        "id": "T8V2S0MvK9ZL",
        "outputId": "cbaf64cc-d8e4-4a72-a724-618cefa126fe"
      },
      "outputs": [],
      "source": [
        "n = 4\n",
        "fig, ax = plt.subplots(n, n, figsize=(10, 10))\n",
        "for ix, axis in enumerate(ax.flat):\n",
        "    axis.imshow(second_intermediate_output[ix, 34, :, :].cpu())\n",
        "    axis.set_title(str(ix))\n",
        "plt.tight_layout()\n",
        "plt.show()"
      ]
    },
    {
      "cell_type": "code",
      "execution_count": null,
      "metadata": {
        "id": "xnRVkyn8LF91"
      },
      "outputs": [],
      "source": []
    },
    {
      "cell_type": "code",
      "execution_count": null,
      "metadata": {
        "colab": {
          "base_uri": "https://localhost:8080/",
          "height": 34
        },
        "id": "rO3FZ_kRK9cE",
        "outputId": "c2b20780-756e-44e8-8068-a61cd59b3ba5"
      },
      "outputs": [],
      "source": [
        "len(XO(\"/content/all/*\"))"
      ]
    },
    {
      "cell_type": "code",
      "execution_count": null,
      "metadata": {
        "id": "NlrSf9fBL7l-"
      },
      "outputs": [],
      "source": [
        "custom_dl = DataLoader(XO(\"/content/all/*\"), batch_size=2498, drop_last=True)"
      ]
    },
    {
      "cell_type": "code",
      "execution_count": null,
      "metadata": {
        "id": "IvuhoUNHRS-T"
      },
      "outputs": [],
      "source": [
        "x, y = next(iter(custom_dl))"
      ]
    },
    {
      "cell_type": "code",
      "execution_count": null,
      "metadata": {
        "id": "zw8rnOXHRjtH"
      },
      "outputs": [],
      "source": [
        "x2 = x[y == 0]"
      ]
    },
    {
      "cell_type": "code",
      "execution_count": null,
      "metadata": {
        "colab": {
          "base_uri": "https://localhost:8080/",
          "height": 34
        },
        "id": "gZN0WAoPSnul",
        "outputId": "5ede8f83-dc00-488e-d6d0-18abccb7bc65"
      },
      "outputs": [],
      "source": [
        "len(x2)"
      ]
    },
    {
      "cell_type": "code",
      "execution_count": null,
      "metadata": {
        "id": "BkLZpaOsSBXb"
      },
      "outputs": [],
      "source": [
        "x2 = x2.view(len(x2), 1, 28, 28)"
      ]
    },
    {
      "cell_type": "code",
      "execution_count": null,
      "metadata": {
        "id": "xmUMZW5dMZEU"
      },
      "outputs": [],
      "source": [
        "flatten_layer = nn.Sequential(*list(model.children())[:7])\n",
        "flatten_layer_output = flatten_layer(x2).detach()"
      ]
    },
    {
      "cell_type": "code",
      "execution_count": null,
      "metadata": {
        "colab": {
          "base_uri": "https://localhost:8080/",
          "height": 34
        },
        "id": "jJ5JJyNHQpc7",
        "outputId": "fe0f0145-cfc0-4f2f-9fad-7aadf44b16c4"
      },
      "outputs": [],
      "source": [
        "flatten_layer_output.shape"
      ]
    },
    {
      "cell_type": "code",
      "execution_count": null,
      "metadata": {
        "colab": {
          "base_uri": "https://localhost:8080/",
          "height": 532
        },
        "id": "E0KWKtUlSOah",
        "outputId": "b861c0c3-536b-4938-aa5c-b630a8716888"
      },
      "outputs": [],
      "source": [
        "plt.figure(figsize=(100, 10))\n",
        "plt.imshow(flatten_layer_output.cpu())"
      ]
    },
    {
      "cell_type": "code",
      "execution_count": null,
      "metadata": {
        "id": "loAWHb8yTHwJ"
      },
      "outputs": [],
      "source": []
    },
    {
      "cell_type": "code",
      "execution_count": null,
      "metadata": {
        "id": "V4yZe26NTHzu"
      },
      "outputs": [],
      "source": []
    },
    {
      "cell_type": "code",
      "execution_count": null,
      "metadata": {
        "id": "UeU8V_HyNz2z"
      },
      "outputs": [],
      "source": []
    }
  ],
  "metadata": {
    "accelerator": "GPU",
    "colab": {
      "collapsed_sections": [],
      "include_colab_link": true,
      "name": "Visualizing_the_filters'_learning.ipynb",
      "provenance": []
    },
    "kernelspec": {
      "display_name": "learn-ai",
      "language": "python",
      "name": "python3"
    },
    "language_info": {
      "codemirror_mode": {
        "name": "ipython",
        "version": 3
      },
      "file_extension": ".py",
      "mimetype": "text/x-python",
      "name": "python",
      "nbconvert_exporter": "python",
      "pygments_lexer": "ipython3",
      "version": "3.12.7"
    }
  },
  "nbformat": 4,
  "nbformat_minor": 0
}
